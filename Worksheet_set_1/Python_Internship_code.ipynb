{
 "cells": [
  {
   "cell_type": "markdown",
   "id": "7bced59c",
   "metadata": {},
   "source": [
    "## Q 11.Write a python program to find the factorial of a number."
   ]
  },
  {
   "cell_type": "code",
   "execution_count": 1,
   "id": "c9ce2165",
   "metadata": {},
   "outputs": [],
   "source": [
    "def factorial(num):\n",
    "     if num>-1:\n",
    "            \n",
    "        factorial=1\n",
    "        for i in range(1,num+1):\n",
    "            factorial=factorial*i\n",
    "         \n",
    "        return factorial\n",
    "\n",
    "     else:\n",
    "            print(\"No factorial for Negative number!\")\n"
   ]
  },
  {
   "cell_type": "markdown",
   "id": "58a172db",
   "metadata": {},
   "source": [
    "## 12.Write a python program to find whether a number is prime or composite."
   ]
  },
  {
   "cell_type": "code",
   "execution_count": 2,
   "id": "2c28d54c",
   "metadata": {},
   "outputs": [],
   "source": [
    "def primenumber(num):\n",
    "    if num<=1:\n",
    "        print(\"Its not prime number\")\n",
    "\n",
    "        for i in range(2,num):\n",
    "            if (num % i)==0:\n",
    "                print('Its not prime number')\n",
    "            break    \n",
    "    else:\n",
    "        print('Its prime number')\n",
    "        \n",
    "        "
   ]
  },
  {
   "cell_type": "markdown",
   "id": "3c1c1f81",
   "metadata": {},
   "source": [
    "## 13.Write a python program to check whether a given string is palindrome or not."
   ]
  },
  {
   "cell_type": "code",
   "execution_count": 3,
   "id": "8ba6b302",
   "metadata": {},
   "outputs": [],
   "source": [
    "def palindrome(num):\n",
    "    if num>0:    \n",
    "        rev=str(num)[::-1]\n",
    "        rev=int(rev)\n",
    "        if num==rev:\n",
    "            print('Number is palindrome')\n",
    "        else:        \n",
    "            print('Number is not palindrome')\n",
    "    else:\n",
    "        print('Number is not palindrome')"
   ]
  },
  {
   "cell_type": "markdown",
   "id": "5eaf77ac",
   "metadata": {},
   "source": [
    "## 14.Write a Python program to get the third side of right-angled triangle from two given sides."
   ]
  },
  {
   "cell_type": "code",
   "execution_count": 4,
   "id": "fc35718d",
   "metadata": {},
   "outputs": [],
   "source": [
    "#formula for third side=a2+b2=c2(2 as square)\n",
    "import numpy as np\n",
    "def third_side(a,b):\n",
    "    third_side=np.sqrt((a*a)+(b*b))\n",
    "    print(third_side)"
   ]
  },
  {
   "cell_type": "markdown",
   "id": "a950f99e",
   "metadata": {},
   "source": [
    "## 15.Write a python program to print the frequency of each of the characters present in a given string."
   ]
  },
  {
   "cell_type": "code",
   "execution_count": 5,
   "id": "2f86c46c",
   "metadata": {},
   "outputs": [],
   "source": [
    "from collections import Counter\n",
    " \n",
    "def char_freq(string):\n",
    " \n",
    "    d = Counter(string)\n",
    "    for i in d:\n",
    "        print(i+str(d[i]), end=\" \")\n",
    " "
   ]
  },
  {
   "cell_type": "markdown",
   "id": "45791444",
   "metadata": {},
   "source": [
    "### Exapmles for all programs with user inputs"
   ]
  },
  {
   "cell_type": "code",
   "execution_count": 36,
   "id": "12fa87f2",
   "metadata": {},
   "outputs": [
    {
     "name": "stdout",
     "output_type": "stream",
     "text": [
      "factorial of number 5:  120\n",
      "Its prime number\n",
      "Number is palindrome\n",
      "5.0\n",
      "F1 l1 i1 p1 R1 o2 b1 "
     ]
    }
   ],
   "source": [
    "print('factorial of number 5: ',factorial(5))\n",
    "\n",
    "primenumber(7)\n",
    "\n",
    "palindrome(2112)\n",
    "\n",
    "third_side(4,3)\n",
    "\n",
    "char_freq('FlipRobo')"
   ]
  },
  {
   "cell_type": "code",
   "execution_count": null,
   "id": "35a50fdd",
   "metadata": {},
   "outputs": [],
   "source": []
  }
 ],
 "metadata": {
  "kernelspec": {
   "display_name": "Python 3",
   "language": "python",
   "name": "python3"
  },
  "language_info": {
   "codemirror_mode": {
    "name": "ipython",
    "version": 3
   },
   "file_extension": ".py",
   "mimetype": "text/x-python",
   "name": "python",
   "nbconvert_exporter": "python",
   "pygments_lexer": "ipython3",
   "version": "3.8.8"
  }
 },
 "nbformat": 4,
 "nbformat_minor": 5
}
