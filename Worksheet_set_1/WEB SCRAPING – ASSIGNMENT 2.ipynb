{
 "cells": [
  {
   "cell_type": "markdown",
   "id": "b45f9252",
   "metadata": {},
   "source": [
    "# WEB SCRAPING – ASSIGNMENT 2"
   ]
  },
  {
   "cell_type": "markdown",
   "id": "1e1ae497",
   "metadata": {},
   "source": [
    "Q1: Write a python program to scrape data for “Data Analyst” Job position in “Bangalore” location. You\n",
    "have to scrape the job-title, job-location, company_name, experience_required. You have to scrape first 10\n",
    "jobs data.\n",
    "This task will be done in following steps:\n",
    "1. First get the webpage https://www.naukri.com/ 2. Enter “Data Analyst” in “Skill, Designations, Companies” field and enter “Bangalore” in “enter the\n",
    "location” field.\n",
    "3. Then click the search button.\n",
    "4. Then scrape the data for the first 10 jobs results you get.\n",
    "5. Finally create a dataframe of the scraped data."
   ]
  },
  {
   "cell_type": "code",
   "execution_count": 3,
   "id": "27b022bb",
   "metadata": {},
   "outputs": [],
   "source": [
    "import pandas as pd\n",
    "import selenium\n",
    "from selenium import webdriver\n",
    "\n",
    "import warnings\n",
    "warnings.filterwarnings('ignore')"
   ]
  },
  {
   "cell_type": "code",
   "execution_count": 4,
   "id": "c2ff61f7",
   "metadata": {},
   "outputs": [],
   "source": [
    "driver=webdriver.Chrome(r'C:/Users/91995/Downloads/chromedriver_win32/chromedriver.exe')"
   ]
  },
  {
   "cell_type": "code",
   "execution_count": null,
   "id": "67bbba0e",
   "metadata": {},
   "outputs": [],
   "source": [
    "driver.get('https://www.naukri.com/')"
   ]
  },
  {
   "cell_type": "code",
   "execution_count": null,
   "id": "d3f346ad",
   "metadata": {},
   "outputs": [],
   "source": [
    "#adding required field\n",
    "search_job=driver.find_element_by_id('qsb-keyword-sugg')\n",
    "search_job.send_keys(\"Data Analyst\")\n",
    "\n",
    "loc=driver.find_element_by_xpath(\"//input[@id='qsb-location-sugg']\")\n",
    "loc.send_keys('Bangalore')"
   ]
  },
  {
   "cell_type": "code",
   "execution_count": null,
   "id": "47453687",
   "metadata": {},
   "outputs": [],
   "source": [
    "btn=driver.find_element_by_xpath(\"//div[@class='search-btn']\")\n",
    "btn.click()"
   ]
  },
  {
   "cell_type": "markdown",
   "id": "a392ca2f",
   "metadata": {},
   "source": [
    "Creating blank lists"
   ]
  },
  {
   "cell_type": "code",
   "execution_count": null,
   "id": "53253c8e",
   "metadata": {},
   "outputs": [],
   "source": [
    "job_title=[]\n",
    "job_location=[]\n",
    "company_name=[]\n",
    "experience_required=[]"
   ]
  },
  {
   "cell_type": "markdown",
   "id": "0573a93d",
   "metadata": {},
   "source": [
    "Fetching data columns one by one"
   ]
  },
  {
   "cell_type": "code",
   "execution_count": null,
   "id": "d447aa52",
   "metadata": {},
   "outputs": [],
   "source": [
    "title=driver.find_elements_by_xpath(\"//div[@class='info fleft']/a\")\n",
    "for i in title:\n",
    "    job_title.append(i.text)\n",
    "    \n",
    "job_title=job_title[0:10]"
   ]
  },
  {
   "cell_type": "code",
   "execution_count": null,
   "id": "5db7e29c",
   "metadata": {},
   "outputs": [],
   "source": [
    "loc=driver.find_elements_by_xpath(\"//li[@class='fleft grey-text br2 placeHolderLi location']\")\n",
    "for i in loc:\n",
    "    job_location.append(i.text)\n",
    "    \n",
    "job_location=job_location[0:10]"
   ]
  },
  {
   "cell_type": "code",
   "execution_count": null,
   "id": "5efd9d7e",
   "metadata": {},
   "outputs": [],
   "source": [
    "name=driver.find_elements_by_xpath(\"//a[@class='subTitle ellipsis fleft']\")\n",
    "for i in name:\n",
    "    company_name.append(i.text)\n",
    "    \n",
    "company_name=company_name[0:10]"
   ]
  },
  {
   "cell_type": "code",
   "execution_count": null,
   "id": "e6983955",
   "metadata": {},
   "outputs": [],
   "source": [
    "exp=driver.find_elements_by_xpath(\"//li[@class='fleft grey-text br2 placeHolderLi experience']/span[1]\")\n",
    "for i in exp:\n",
    "    experience_required.append(i.text)\n",
    "    \n",
    "experience_required=experience_required[0:10]"
   ]
  },
  {
   "cell_type": "code",
   "execution_count": null,
   "id": "c5357faf",
   "metadata": {},
   "outputs": [],
   "source": [
    "#checking len of all fields:\n",
    "\n",
    "print(len(job_title),len(job_location),len(company_name),len(experience_required))"
   ]
  },
  {
   "cell_type": "code",
   "execution_count": null,
   "id": "e025e234",
   "metadata": {},
   "outputs": [],
   "source": [
    "#creating dataframe\n",
    "\n",
    "Job_data=pd.DataFrame({'job_title':job_title,\n",
    "                       'job_location':job_location,\n",
    "                       'company_name':company_name,\n",
    "                       'experience_required':experience_required\n",
    "                       })\n",
    "Job_data"
   ]
  },
  {
   "cell_type": "markdown",
   "id": "d9efa3aa",
   "metadata": {},
   "source": [
    "Q2: Write a python program to scrape data for “Data Scientist” Job position in “Bangalore” location. You \n",
    "have to scrape the job-title, job-location, company_name. You have to scrape first 10 jobs data. \n",
    "This task will be done in following steps: \n",
    "1. First get the webpage https://www.naukri.com/ 2. Enter “Data Scientist” in “Skill, Designations, Companies” field and enter “Bangalore” in “enter the \n",
    "location” field. \n",
    "3. Then click the search button. \n",
    "4. Then scrape the data for the first 10 jobs results you get. \n",
    "5. Finally create a dataframe of the scraped data."
   ]
  },
  {
   "cell_type": "code",
   "execution_count": null,
   "id": "df456ffe",
   "metadata": {},
   "outputs": [],
   "source": [
    "#lauching chrome & adding require fields:\n",
    "driver=webdriver.Chrome(r'C:/Users/91995/Downloads/chromedriver_win32/chromedriver.exe')\n",
    "driver.get('https://www.naukri.com/')\n",
    "\n",
    "search_job=driver.find_element_by_id('qsb-keyword-sugg')\n",
    "search_job.send_keys(\"Data Scientist\")\n",
    "\n",
    "loc=driver.find_element_by_xpath(\"//input[@id='qsb-location-sugg']\")\n",
    "loc.send_keys('Bangalore')\n",
    "\n",
    "btn=driver.find_element_by_xpath(\"//div[@class='search-btn']\")\n",
    "btn.click()"
   ]
  },
  {
   "cell_type": "markdown",
   "id": "156e97b6",
   "metadata": {},
   "source": [
    "Creating blank lists:"
   ]
  },
  {
   "cell_type": "code",
   "execution_count": null,
   "id": "89466e31",
   "metadata": {},
   "outputs": [],
   "source": [
    "job_title=[]\n",
    "job_location=[]\n",
    "company_name=[]\n",
    "experience_required=[]"
   ]
  },
  {
   "cell_type": "code",
   "execution_count": null,
   "id": "47495a93",
   "metadata": {},
   "outputs": [],
   "source": [
    "title=driver.find_elements_by_xpath(\"//div[@class='info fleft']/a\")\n",
    "for i in title:\n",
    "    job_title.append(i.text)\n",
    "    \n",
    "job_title=job_title[0:10]\n",
    "\n",
    "loc=driver.find_elements_by_xpath(\"//li[@class='fleft grey-text br2 placeHolderLi location']\")\n",
    "for i in loc:\n",
    "    job_location.append(i.text)\n",
    "    \n",
    "job_location=job_location[0:10]\n",
    "\n",
    "name=driver.find_elements_by_xpath(\"//a[@class='subTitle ellipsis fleft']\")\n",
    "for i in name:\n",
    "    company_name.append(i.text)\n",
    "    \n",
    "company_name=company_name[0:10]\n",
    "\n",
    "exp=driver.find_elements_by_xpath(\"//li[@class='fleft grey-text br2 placeHolderLi experience']/span[1]\")\n",
    "for i in exp:\n",
    "    experience_required.append(i.text)\n",
    "    \n",
    "experience_required=experience_required[0:10]"
   ]
  },
  {
   "cell_type": "code",
   "execution_count": null,
   "id": "0f6b9a86",
   "metadata": {},
   "outputs": [],
   "source": [
    "#checking len of all fields:\n",
    "\n",
    "print(len(job_title),len(job_location),len(company_name),len(experience_required))"
   ]
  },
  {
   "cell_type": "code",
   "execution_count": null,
   "id": "bdb84da2",
   "metadata": {},
   "outputs": [],
   "source": [
    "#creating dataframe\n",
    "\n",
    "Job_Scidata=pd.DataFrame({'job_title':job_title,\n",
    "                       'job_location':job_location,\n",
    "                       'company_name':company_name,\n",
    "                       'experience_required':experience_required\n",
    "                       })\n",
    "Job_Scidata"
   ]
  },
  {
   "cell_type": "markdown",
   "id": "80f06df4",
   "metadata": {},
   "source": [
    "Q3: In this question you have to scrape data using the filters available on the webpage as shown below:\n",
    "You have to use the location and salary filter. \n",
    "You have to scrape data for “Data Scientist” designation for first 10 job results. \n",
    "You have to scrape the job-title, job-location, company name, experience required. \n",
    "The location filter to be used is “Delhi/NCR” The salary filter to be used is “3-6” lakhs \n",
    "\n",
    "The task will be done as shown in the below steps: \n",
    "1. first get the webpage https://www.naukri.com/\n",
    "2. Enter “Data Scientist” in “Skill, Designations, and Companies” field. \n",
    "3. Then click the search button. \n",
    "4. Then apply the location filter and salary filter by checking the respective boxes \n",
    "5. Then scrape the data for the first 10 jobs results you get. \n",
    "6. Finally create a dataframe of the scraped data. "
   ]
  },
  {
   "cell_type": "code",
   "execution_count": 20,
   "id": "faa108c3",
   "metadata": {},
   "outputs": [],
   "source": [
    "#lauching chrome & adding require fields:\n",
    "driver=webdriver.Chrome(r'C:/Users/91995/Downloads/chromedriver_win32/chromedriver.exe')\n",
    "driver.get('https://www.naukri.com/')"
   ]
  },
  {
   "cell_type": "code",
   "execution_count": 21,
   "id": "45fda33e",
   "metadata": {},
   "outputs": [],
   "source": [
    "#Adding job keyword\n",
    "search_job=driver.find_element_by_id('qsb-keyword-sugg')\n",
    "search_job.send_keys(\"Data Scientist\")"
   ]
  },
  {
   "cell_type": "code",
   "execution_count": 22,
   "id": "eacb3709",
   "metadata": {},
   "outputs": [],
   "source": [
    "#press search button\n",
    "btn=driver.find_element_by_xpath(\"//div[@class='search-btn']\")\n",
    "btn.click()"
   ]
  },
  {
   "cell_type": "code",
   "execution_count": 32,
   "id": "b6397ae2",
   "metadata": {},
   "outputs": [],
   "source": [
    "#filter by location\n",
    "loc=driver.find_element_by_xpath(\"//span[@title='Delhi / NCR']\")\n",
    "loc.click()"
   ]
  },
  {
   "cell_type": "code",
   "execution_count": 33,
   "id": "96f92781",
   "metadata": {},
   "outputs": [],
   "source": [
    "#filter by salary \n",
    "sal=driver.find_element_by_xpath(\"//span[@title='3-6 Lakhs']\")\n",
    "sal.click()"
   ]
  },
  {
   "cell_type": "code",
   "execution_count": 34,
   "id": "c55f3953",
   "metadata": {},
   "outputs": [],
   "source": [
    "#create blank list\n",
    "job_title=[]\n",
    "job_location=[]\n",
    "company_name=[]\n",
    "experience_required=[]"
   ]
  },
  {
   "cell_type": "code",
   "execution_count": 35,
   "id": "7fcde1b2",
   "metadata": {},
   "outputs": [],
   "source": [
    "#fetching data\n",
    "\n",
    "title=driver.find_elements_by_xpath(\"//div[@class='info fleft']/a\")\n",
    "for i in title:\n",
    "    job_title.append(i.text)\n",
    "    \n",
    "job_title=job_title[0:10]\n",
    "\n",
    "loc=driver.find_elements_by_xpath(\"//li[@class='fleft grey-text br2 placeHolderLi location']\")\n",
    "for i in loc:\n",
    "    job_location.append(i.text)\n",
    "    \n",
    "job_location=job_location[0:10]\n",
    "\n",
    "name=driver.find_elements_by_xpath(\"//a[@class='subTitle ellipsis fleft']\")\n",
    "for i in name:\n",
    "    company_name.append(i.text)\n",
    "    \n",
    "company_name=company_name[0:10]\n",
    "\n",
    "exp=driver.find_elements_by_xpath(\"//li[@class='fleft grey-text br2 placeHolderLi experience']/span[1]\")\n",
    "for i in exp:\n",
    "    experience_required.append(i.text)\n",
    "    \n",
    "experience_required=experience_required[0:10]"
   ]
  },
  {
   "cell_type": "code",
   "execution_count": 36,
   "id": "9c2b1434",
   "metadata": {},
   "outputs": [
    {
     "name": "stdout",
     "output_type": "stream",
     "text": [
      "10 10 10 10\n"
     ]
    }
   ],
   "source": [
    "print(len(job_title),len(job_location),len(company_name),len(experience_required))"
   ]
  },
  {
   "cell_type": "code",
   "execution_count": 37,
   "id": "285fdb6d",
   "metadata": {},
   "outputs": [
    {
     "data": {
      "text/html": [
       "<div>\n",
       "<style scoped>\n",
       "    .dataframe tbody tr th:only-of-type {\n",
       "        vertical-align: middle;\n",
       "    }\n",
       "\n",
       "    .dataframe tbody tr th {\n",
       "        vertical-align: top;\n",
       "    }\n",
       "\n",
       "    .dataframe thead th {\n",
       "        text-align: right;\n",
       "    }\n",
       "</style>\n",
       "<table border=\"1\" class=\"dataframe\">\n",
       "  <thead>\n",
       "    <tr style=\"text-align: right;\">\n",
       "      <th></th>\n",
       "      <th>job_title</th>\n",
       "      <th>job_location</th>\n",
       "      <th>company_name</th>\n",
       "      <th>experience_required</th>\n",
       "    </tr>\n",
       "  </thead>\n",
       "  <tbody>\n",
       "    <tr>\n",
       "      <th>0</th>\n",
       "      <td>Data Scientist</td>\n",
       "      <td>Noida, New Delhi, Faridabad, Gurgaon/Gurugram,...</td>\n",
       "      <td>LG Electronics India Pvt. Ltd.</td>\n",
       "      <td>0-2 Yrs</td>\n",
       "    </tr>\n",
       "    <tr>\n",
       "      <th>1</th>\n",
       "      <td>Hiring For Data Scientist</td>\n",
       "      <td>Hyderabad/Secunderabad, Pune, Chennai, Bangalo...</td>\n",
       "      <td>Tata Consultancy Services Ltd.</td>\n",
       "      <td>4-9 Yrs</td>\n",
       "    </tr>\n",
       "    <tr>\n",
       "      <th>2</th>\n",
       "      <td>Project Manager | Team Leader | Senior Data Sc...</td>\n",
       "      <td>Remote</td>\n",
       "      <td>Tidyquant (OPC) Private Limited</td>\n",
       "      <td>1-5 Yrs</td>\n",
       "    </tr>\n",
       "    <tr>\n",
       "      <th>3</th>\n",
       "      <td>Data Scientist</td>\n",
       "      <td>Noida, Nodia\\n(WFH during Covid)</td>\n",
       "      <td>Navikenz India Pvt Ltd</td>\n",
       "      <td>2-7 Yrs</td>\n",
       "    </tr>\n",
       "    <tr>\n",
       "      <th>4</th>\n",
       "      <td>NTT DATA_ Hiring For BIG DATA ,DATA Scientist,...</td>\n",
       "      <td>Noida, Kolkata, Hyderabad/Secunderabad, Ahmeda...</td>\n",
       "      <td>NTT Data Business Solutions Pvt Ltd</td>\n",
       "      <td>3-8 Yrs</td>\n",
       "    </tr>\n",
       "    <tr>\n",
       "      <th>5</th>\n",
       "      <td>Hiring For Data Analyst / Data Scientist</td>\n",
       "      <td>Noida(Sector-59 Noida)</td>\n",
       "      <td>Careerera</td>\n",
       "      <td>1-3 Yrs</td>\n",
       "    </tr>\n",
       "    <tr>\n",
       "      <th>6</th>\n",
       "      <td>Data Scientist</td>\n",
       "      <td>Bharuch, Jaipur, Bhopal, Mumbai, Jhansi, Nagpu...</td>\n",
       "      <td>Country Veggie</td>\n",
       "      <td>1-3 Yrs</td>\n",
       "    </tr>\n",
       "    <tr>\n",
       "      <th>7</th>\n",
       "      <td>Data Scientist</td>\n",
       "      <td>Gurgaon/Gurugram</td>\n",
       "      <td>Whizhack Technologies pvt ltd</td>\n",
       "      <td>2-5 Yrs</td>\n",
       "    </tr>\n",
       "    <tr>\n",
       "      <th>8</th>\n",
       "      <td>Data Scientist</td>\n",
       "      <td>Gurgaon/Gurugram</td>\n",
       "      <td>One Mobikwik Systems Private Limited</td>\n",
       "      <td>2-5 Yrs</td>\n",
       "    </tr>\n",
       "    <tr>\n",
       "      <th>9</th>\n",
       "      <td>Data Scientist/ Senior Data Scientist</td>\n",
       "      <td>Noida</td>\n",
       "      <td>Newgen Software Technologies</td>\n",
       "      <td>2-5 Yrs</td>\n",
       "    </tr>\n",
       "  </tbody>\n",
       "</table>\n",
       "</div>"
      ],
      "text/plain": [
       "                                           job_title  \\\n",
       "0                                     Data Scientist   \n",
       "1                          Hiring For Data Scientist   \n",
       "2  Project Manager | Team Leader | Senior Data Sc...   \n",
       "3                                     Data Scientist   \n",
       "4  NTT DATA_ Hiring For BIG DATA ,DATA Scientist,...   \n",
       "5           Hiring For Data Analyst / Data Scientist   \n",
       "6                                     Data Scientist   \n",
       "7                                     Data Scientist   \n",
       "8                                     Data Scientist   \n",
       "9              Data Scientist/ Senior Data Scientist   \n",
       "\n",
       "                                        job_location  \\\n",
       "0  Noida, New Delhi, Faridabad, Gurgaon/Gurugram,...   \n",
       "1  Hyderabad/Secunderabad, Pune, Chennai, Bangalo...   \n",
       "2                                             Remote   \n",
       "3                   Noida, Nodia\\n(WFH during Covid)   \n",
       "4  Noida, Kolkata, Hyderabad/Secunderabad, Ahmeda...   \n",
       "5                             Noida(Sector-59 Noida)   \n",
       "6  Bharuch, Jaipur, Bhopal, Mumbai, Jhansi, Nagpu...   \n",
       "7                                   Gurgaon/Gurugram   \n",
       "8                                   Gurgaon/Gurugram   \n",
       "9                                              Noida   \n",
       "\n",
       "                           company_name experience_required  \n",
       "0        LG Electronics India Pvt. Ltd.             0-2 Yrs  \n",
       "1        Tata Consultancy Services Ltd.             4-9 Yrs  \n",
       "2       Tidyquant (OPC) Private Limited             1-5 Yrs  \n",
       "3                Navikenz India Pvt Ltd             2-7 Yrs  \n",
       "4   NTT Data Business Solutions Pvt Ltd             3-8 Yrs  \n",
       "5                             Careerera             1-3 Yrs  \n",
       "6                        Country Veggie             1-3 Yrs  \n",
       "7         Whizhack Technologies pvt ltd             2-5 Yrs  \n",
       "8  One Mobikwik Systems Private Limited             2-5 Yrs  \n",
       "9          Newgen Software Technologies             2-5 Yrs  "
      ]
     },
     "execution_count": 37,
     "metadata": {},
     "output_type": "execute_result"
    }
   ],
   "source": [
    "#creating dataframe\n",
    "\n",
    "Job_Scidata2=pd.DataFrame({'job_title':job_title,\n",
    "                       'job_location':job_location,\n",
    "                       'company_name':company_name,\n",
    "                       'experience_required':experience_required\n",
    "                       })\n",
    "Job_Scidata2"
   ]
  },
  {
   "cell_type": "markdown",
   "id": "920fc66f",
   "metadata": {},
   "source": [
    "Q4: Scrape data of first 100 sunglasses listings on flipkart.com. You have to scrape four attributes: \n",
    "\n",
    "1. Brand \n",
    "2. Product Description \n",
    "3. Price \n",
    "The attributes which you have to scrape is ticked marked in the below image.\n",
    "\n",
    "To scrape the data you have to go through following steps: \n",
    "1. Go to Flipkart webpage by url : https://www.flipkart.com/\n",
    "2. Enter “sunglasses” in the search field where “search for products, brands and more” is written and \n",
    "click the search icon\n",
    "3. After that you will reach to the page having a lot of sunglasses. From this page you can scrap the \n",
    "required data as usual. \n",
    "\n",
    "4. After scraping data from the first page, go to the “Next” Button at the bottom of the page , then \n",
    "click on it. \n",
    "5. Now scrape data from this page as usual \n",
    "6. Repeat this until you get data for 100 sunglasses."
   ]
  },
  {
   "cell_type": "code",
   "execution_count": 42,
   "id": "486e1d6d",
   "metadata": {},
   "outputs": [],
   "source": [
    "#lauching chrome & adding site:\n",
    "driver=webdriver.Chrome(r'C:/Users/91995/Downloads/chromedriver_win32/chromedriver.exe')\n",
    "driver.get('https://www.flipkart.com/')"
   ]
  },
  {
   "cell_type": "code",
   "execution_count": 46,
   "id": "28e64e7c",
   "metadata": {},
   "outputs": [],
   "source": [
    "#filter data\n",
    "search=driver.find_element_by_xpath(\"//input[@title='Search for products, brands and more']\")\n",
    "search.send_keys('sunglasses')"
   ]
  },
  {
   "cell_type": "code",
   "execution_count": 47,
   "id": "19bef250",
   "metadata": {},
   "outputs": [],
   "source": [
    "#press search button\n",
    "btn=driver.find_element_by_xpath(\"//button[@class='L0Z3Pu']\")\n",
    "btn.click()"
   ]
  },
  {
   "cell_type": "code",
   "execution_count": 76,
   "id": "7098c8da",
   "metadata": {},
   "outputs": [],
   "source": [
    "Brand=[]\n",
    "Product_Description=[]\n",
    "Price=[]"
   ]
  },
  {
   "cell_type": "code",
   "execution_count": 52,
   "id": "5eb10801",
   "metadata": {},
   "outputs": [],
   "source": [
    "bname=driver.find_elements_by_xpath(\"//div[@class='_2WkVRV']\")\n",
    "for i in bname:\n",
    "    Brand.append(i.text)\n",
    "    \n",
    "Brand=Brand[0:100]"
   ]
  },
  {
   "cell_type": "code",
   "execution_count": 78,
   "id": "2408a479",
   "metadata": {},
   "outputs": [
    {
     "data": {
      "text/plain": [
       "['ROZZETTA CRAFT',\n",
       " 'Ar creation',\n",
       " 'SRPM',\n",
       " 'PIRASO',\n",
       " 'Elligator',\n",
       " 'New Specs',\n",
       " 'PIRASO',\n",
       " 'Ar creation',\n",
       " 'kingsunglasses',\n",
       " 'Fastrack',\n",
       " 'kingsunglasses',\n",
       " 'VINCENT CHASE',\n",
       " 'SUNBEE',\n",
       " 'SHAAH COLLECTIONS',\n",
       " 'PHENOMENAL',\n",
       " 'Myreen',\n",
       " 'SHAAH COLLECTIONS',\n",
       " 'ROZZETTA CRAFT',\n",
       " 'ROZZETTA CRAFT',\n",
       " 'ROYAL SON',\n",
       " 'PIRASO',\n",
       " 'PIRASO',\n",
       " 'PHENOMENAL',\n",
       " 'ROYAL SON',\n",
       " 'kingsunglasses',\n",
       " 'PIRASO',\n",
       " 'Rich Club',\n",
       " 'ROYAL SON',\n",
       " 'SUNBEE',\n",
       " 'Rich Club',\n",
       " 'ROYAL SON',\n",
       " 'ROYAL SON',\n",
       " 'kingsunglasses',\n",
       " 'New Specs',\n",
       " 'PIRASO',\n",
       " 'ROYAL SON',\n",
       " 'PIRASO',\n",
       " 'ROYAL SON',\n",
       " 'PIRASO',\n",
       " 'ROYAL SON',\n",
       " 'ROZZETTA CRAFT',\n",
       " 'Ar creation',\n",
       " 'SRPM',\n",
       " 'PIRASO',\n",
       " 'Elligator',\n",
       " 'New Specs',\n",
       " 'PIRASO',\n",
       " 'Ar creation',\n",
       " 'kingsunglasses',\n",
       " 'Fastrack',\n",
       " 'kingsunglasses',\n",
       " 'VINCENT CHASE',\n",
       " 'SUNBEE',\n",
       " 'SHAAH COLLECTIONS',\n",
       " 'PHENOMENAL',\n",
       " 'Myreen',\n",
       " 'SHAAH COLLECTIONS',\n",
       " 'ROZZETTA CRAFT',\n",
       " 'ROZZETTA CRAFT',\n",
       " 'ROYAL SON',\n",
       " 'PIRASO',\n",
       " 'PIRASO',\n",
       " 'PHENOMENAL',\n",
       " 'ROYAL SON',\n",
       " 'kingsunglasses',\n",
       " 'PIRASO',\n",
       " 'Rich Club',\n",
       " 'ROYAL SON',\n",
       " 'SUNBEE',\n",
       " 'Rich Club',\n",
       " 'ROYAL SON',\n",
       " 'ROYAL SON',\n",
       " 'kingsunglasses',\n",
       " 'New Specs',\n",
       " 'PIRASO',\n",
       " 'ROYAL SON',\n",
       " 'PIRASO',\n",
       " 'ROYAL SON',\n",
       " 'PIRASO',\n",
       " 'ROYAL SON']"
      ]
     },
     "execution_count": 78,
     "metadata": {},
     "output_type": "execute_result"
    }
   ],
   "source": [
    "pro=driver.find_elements_by_xpath(\"//a[@class='IRpwTa']/title\")\n",
    "for i in bname:\n",
    "    Product_Description.append(i.text)\n",
    "    \n",
    "Product_Description=Product_Description[0:100]\n",
    "\n",
    "Product_Description"
   ]
  },
  {
   "cell_type": "code",
   "execution_count": null,
   "id": "1611f005",
   "metadata": {},
   "outputs": [],
   "source": [
    "pr=driver.find_elements_by_xpath(\"//div[@class='_30jeq3']\")\n",
    "for i in pr:\n",
    "    Price.append(i.text)\n",
    "    \n",
    "Price=Price[0:100]"
   ]
  },
  {
   "cell_type": "code",
   "execution_count": null,
   "id": "67a576b2",
   "metadata": {},
   "outputs": [],
   "source": []
  },
  {
   "cell_type": "markdown",
   "id": "b633da77",
   "metadata": {},
   "source": [
    "Q5: Scrape 100 reviews data from flipkart.com for iphone11 phone. You have to go the link: \n",
    "https://www.flipkart.com/apple-iphone-11-black-64-gb-includes- earpods-power\u0002adapter/p/itm0f37c2240b217?pid=MOBFKCTSVZAXUHGR&lid=LSTMOBFKC \n",
    "TSVZAXUHGREPBFGI&marketplace. When you will open the above link you will reach to the below shown webpage . \n",
    "\n",
    "As shown in the above page you have to scrape the tick marked attributes. These are: \n",
    "1. Rating \n",
    "2. Review_summary \n",
    "3. Full review \n",
    "You have to scrape this data for first 100 reviews."
   ]
  },
  {
   "cell_type": "code",
   "execution_count": 80,
   "id": "c9e93710",
   "metadata": {},
   "outputs": [],
   "source": [
    "#lauching chrome & adding site:\n",
    "driver=webdriver.Chrome(r'C:/Users/91995/Downloads/chromedriver_win32/chromedriver.exe')\n",
    "driver.get(r'https://www.flipkart.com/apple-iphone-11-black-64-gb-includes- earpods-power-adapter/p/itm0f37c2240b217?pid=MOBFKCTSVZAXUHGR&lid=LSTMOBFKCTSVZAXUHGREPBFGI&marketplace')"
   ]
  },
  {
   "cell_type": "code",
   "execution_count": 84,
   "id": "4a37832c",
   "metadata": {},
   "outputs": [],
   "source": [
    "all=driver.find_element_by_xpath(\"//div[@class='_3UAT2v _16PBlm']\")\n",
    "\n",
    "all.click()"
   ]
  },
  {
   "cell_type": "code",
   "execution_count": null,
   "id": "8201be24",
   "metadata": {},
   "outputs": [],
   "source": [
    "rating=[]\n",
    "Review_summary=[]\n",
    "Full_review =[]\n",
    "\n",
    "#fetching data for first 10 pages.\n",
    "for page in range(1,11,1):\n",
    "    driver=webdriver.Chrome(r'C:/Users/91995/Downloads/chromedriver_win32/chromedriver.exe')\n",
    "    pg_url='https://www.flipkart.com/apple-iphone-11-black-64-gb-includes-earpods-power-adapter/product-reviews/itm0f37c2240b217?pid=MOBFKCTSVZAXUHGR&lid=LSTMOBFKCTSVZAXUHGREPBFGI&marketplace=FLIPKART&page='+str(page)\n",
    "    #print(pg_url)\n",
    "    driver.get(pg_url)\n",
    "    rat=driver.find_elements_by_xpath(\"//div[@class='_3LWZlK _1BLPMq' or @class='_3LWZlK _1rdVr6 _1BLPMq']\" )\n",
    "    for i in rat:\n",
    "        rating.append(i.text)\n",
    "        \n",
    "    rev=driver.find_elements_by_xpath(\"//p[@class='_2-N8zT']\")\n",
    "    for i in rev:\n",
    "        Review_summary.append(i.text)    \n",
    "        \n",
    "   \n",
    "    f=driver.find_elements_by_xpath(\"//div[@class='t-ZTKy']\")\n",
    "    for i in f:\n",
    "        Full_review.append(i.text.replace(\"\\n\",\"\")) \n",
    "        \n",
    "#Checking len as it must be same for all variable.        \n",
    "print(len(rating),len(Review_summary),len(Full_review))\n",
    "        "
   ]
  },
  {
   "cell_type": "code",
   "execution_count": 134,
   "id": "a9f83f1d",
   "metadata": {},
   "outputs": [
    {
     "data": {
      "text/html": [
       "<div>\n",
       "<style scoped>\n",
       "    .dataframe tbody tr th:only-of-type {\n",
       "        vertical-align: middle;\n",
       "    }\n",
       "\n",
       "    .dataframe tbody tr th {\n",
       "        vertical-align: top;\n",
       "    }\n",
       "\n",
       "    .dataframe thead th {\n",
       "        text-align: right;\n",
       "    }\n",
       "</style>\n",
       "<table border=\"1\" class=\"dataframe\">\n",
       "  <thead>\n",
       "    <tr style=\"text-align: right;\">\n",
       "      <th></th>\n",
       "      <th>rating</th>\n",
       "      <th>Review_summary</th>\n",
       "      <th>Full_review</th>\n",
       "    </tr>\n",
       "  </thead>\n",
       "  <tbody>\n",
       "    <tr>\n",
       "      <th>0</th>\n",
       "      <td>5</td>\n",
       "      <td>Brilliant</td>\n",
       "      <td>The Best Phone for the MoneyThe iPhone 11 offe...</td>\n",
       "    </tr>\n",
       "    <tr>\n",
       "      <th>1</th>\n",
       "      <td>5</td>\n",
       "      <td>Simply awesome</td>\n",
       "      <td>Really satisfied with the Product I received.....</td>\n",
       "    </tr>\n",
       "    <tr>\n",
       "      <th>2</th>\n",
       "      <td>5</td>\n",
       "      <td>Best in the market!</td>\n",
       "      <td>Great iPhone very snappy experience as apple k...</td>\n",
       "    </tr>\n",
       "    <tr>\n",
       "      <th>3</th>\n",
       "      <td>5</td>\n",
       "      <td>Perfect product!</td>\n",
       "      <td>Amazing phone with great cameras and better ba...</td>\n",
       "    </tr>\n",
       "    <tr>\n",
       "      <th>4</th>\n",
       "      <td>5</td>\n",
       "      <td>Worth every penny</td>\n",
       "      <td>Previously I was using one plus 3t it was a gr...</td>\n",
       "    </tr>\n",
       "  </tbody>\n",
       "</table>\n",
       "</div>"
      ],
      "text/plain": [
       "  rating       Review_summary  \\\n",
       "0      5            Brilliant   \n",
       "1      5       Simply awesome   \n",
       "2      5  Best in the market!   \n",
       "3      5     Perfect product!   \n",
       "4      5    Worth every penny   \n",
       "\n",
       "                                         Full_review  \n",
       "0  The Best Phone for the MoneyThe iPhone 11 offe...  \n",
       "1  Really satisfied with the Product I received.....  \n",
       "2  Great iPhone very snappy experience as apple k...  \n",
       "3  Amazing phone with great cameras and better ba...  \n",
       "4  Previously I was using one plus 3t it was a gr...  "
      ]
     },
     "execution_count": 134,
     "metadata": {},
     "output_type": "execute_result"
    }
   ],
   "source": [
    "#Create dataframe\n",
    "\n",
    "All_reviews=pd.DataFrame({'rating':rating,\n",
    "                          'Review_summary':Review_summary,\n",
    "                          'Full_review':Full_review\n",
    "                          \n",
    "                        })\n",
    "\n",
    "All_reviews.head()\n",
    "\n",
    "driver.close()"
   ]
  },
  {
   "cell_type": "markdown",
   "id": "5658848d",
   "metadata": {},
   "source": [
    "Q6: Scrape data for first 100 sneakers you find when you visit flipkart.com and search for “sneakers” in the \n",
    "search field. \n",
    "You have to scrape 4 attributes of each sneaker: \n",
    "1. Brand \n",
    "2. Product Description \n",
    "3. Price \n",
    "As shown in the below image, you have to scrape the tick marked attributes"
   ]
  },
  {
   "cell_type": "code",
   "execution_count": 136,
   "id": "1166e8b5",
   "metadata": {},
   "outputs": [],
   "source": [
    "#lauching chrome & adding site:\n",
    "driver=webdriver.Chrome(r'C:/Users/91995/Downloads/chromedriver_win32/chromedriver.exe')\n",
    "driver.get(\"https://www.flipkart.com/\")"
   ]
  },
  {
   "cell_type": "code",
   "execution_count": 137,
   "id": "fff1053d",
   "metadata": {},
   "outputs": [],
   "source": [
    "#filter data\n",
    "search=driver.find_element_by_xpath(\"//input[@title='Search for products, brands and more']\")\n",
    "search.send_keys('sneakers')"
   ]
  },
  {
   "cell_type": "code",
   "execution_count": 138,
   "id": "e774b504",
   "metadata": {},
   "outputs": [],
   "source": [
    "#press search button\n",
    "btn=driver.find_element_by_xpath(\"//button[@class='L0Z3Pu']\")\n",
    "btn.click()"
   ]
  },
  {
   "cell_type": "code",
   "execution_count": null,
   "id": "08c3fe97",
   "metadata": {},
   "outputs": [],
   "source": [
    "#creating blank lists:\n",
    "Brand=[]\n",
    "Product_discription=[]\n",
    "Price=[]\n",
    "\n",
    "#fetching data for first 3 pages:\n",
    "for page in range(1,4,1):\n",
    "    url='https://www.flipkart.com/search?q=sneakers&otracker=search&otracker1=search&marketplace=FLIPKART&as-show=on&as=off&page='+str(page)\n",
    "    #print(url)\n",
    "    driver.get(url)\n",
    "    \n",
    "    br=driver.find_elements_by_xpath(\"//div[@class='_2WkVRV']\")\n",
    "    for i in br:\n",
    "        Brand.append(i.text)\n",
    "\n",
    "\n",
    "    pr=driver.find_elements_by_xpath(\"//a[@class='IRpwTa'or @class='IRpwTa _2-ICcC']\")\n",
    "    for i in pr:\n",
    "        Product_discription.append(i.text)\n",
    "\n",
    "\n",
    "    pri=driver.find_elements_by_xpath(\"//div[@class='_30jeq3']\")\n",
    "    for i in pri:\n",
    "        Price.append(i.text)\n",
    "        \n",
    "     \n",
    "print(len(Brand),len(Product_discription),len(Price)) "
   ]
  },
  {
   "cell_type": "code",
   "execution_count": 169,
   "id": "65b6cf63",
   "metadata": {},
   "outputs": [
    {
     "data": {
      "text/html": [
       "<div>\n",
       "<style scoped>\n",
       "    .dataframe tbody tr th:only-of-type {\n",
       "        vertical-align: middle;\n",
       "    }\n",
       "\n",
       "    .dataframe tbody tr th {\n",
       "        vertical-align: top;\n",
       "    }\n",
       "\n",
       "    .dataframe thead th {\n",
       "        text-align: right;\n",
       "    }\n",
       "</style>\n",
       "<table border=\"1\" class=\"dataframe\">\n",
       "  <thead>\n",
       "    <tr style=\"text-align: right;\">\n",
       "      <th></th>\n",
       "      <th>Brand</th>\n",
       "      <th>Product_discription</th>\n",
       "      <th>Price</th>\n",
       "    </tr>\n",
       "  </thead>\n",
       "  <tbody>\n",
       "    <tr>\n",
       "      <th>0</th>\n",
       "      <td>BIRDE</td>\n",
       "      <td>Sneakers For Men</td>\n",
       "      <td>₹535</td>\n",
       "    </tr>\n",
       "    <tr>\n",
       "      <th>1</th>\n",
       "      <td>India hub</td>\n",
       "      <td>Fashionable casual sneakers shoes Sneakers For...</td>\n",
       "      <td>₹449</td>\n",
       "    </tr>\n",
       "    <tr>\n",
       "      <th>2</th>\n",
       "      <td>BIRDE</td>\n",
       "      <td>Sports Running Shoes Sneakers For Men</td>\n",
       "      <td>₹299</td>\n",
       "    </tr>\n",
       "    <tr>\n",
       "      <th>3</th>\n",
       "      <td>URBANBOX</td>\n",
       "      <td>Sneakers Sneakers For Men</td>\n",
       "      <td>₹220</td>\n",
       "    </tr>\n",
       "    <tr>\n",
       "      <th>4</th>\n",
       "      <td>Chevit</td>\n",
       "      <td>Super Stylish &amp; Trendy Combo Pack of 02 Pairs ...</td>\n",
       "      <td>₹536</td>\n",
       "    </tr>\n",
       "    <tr>\n",
       "      <th>...</th>\n",
       "      <td>...</td>\n",
       "      <td>...</td>\n",
       "      <td>...</td>\n",
       "    </tr>\n",
       "    <tr>\n",
       "      <th>95</th>\n",
       "      <td>India hub</td>\n",
       "      <td>Sneakers For Men</td>\n",
       "      <td>₹499</td>\n",
       "    </tr>\n",
       "    <tr>\n",
       "      <th>96</th>\n",
       "      <td>STRANGER BROTHERS</td>\n",
       "      <td>Sneakers For Men</td>\n",
       "      <td>₹469</td>\n",
       "    </tr>\n",
       "    <tr>\n",
       "      <th>97</th>\n",
       "      <td>Feens</td>\n",
       "      <td>Stylish &amp; Comfortable Casual Sports Walking Sn...</td>\n",
       "      <td>₹265</td>\n",
       "    </tr>\n",
       "    <tr>\n",
       "      <th>98</th>\n",
       "      <td>BIRDE</td>\n",
       "      <td>Sneakers For Men</td>\n",
       "      <td>₹535</td>\n",
       "    </tr>\n",
       "    <tr>\n",
       "      <th>99</th>\n",
       "      <td>CALCADOS</td>\n",
       "      <td>Modern Trendy Shoes Combo pack of 4 Sneakers F...</td>\n",
       "      <td>₹899</td>\n",
       "    </tr>\n",
       "  </tbody>\n",
       "</table>\n",
       "<p>100 rows × 3 columns</p>\n",
       "</div>"
      ],
      "text/plain": [
       "                Brand                                Product_discription Price\n",
       "0               BIRDE                                   Sneakers For Men  ₹535\n",
       "1           India hub  Fashionable casual sneakers shoes Sneakers For...  ₹449\n",
       "2               BIRDE              Sports Running Shoes Sneakers For Men  ₹299\n",
       "3            URBANBOX                          Sneakers Sneakers For Men  ₹220\n",
       "4              Chevit  Super Stylish & Trendy Combo Pack of 02 Pairs ...  ₹536\n",
       "..                ...                                                ...   ...\n",
       "95          India hub                                   Sneakers For Men  ₹499\n",
       "96  STRANGER BROTHERS                                   Sneakers For Men  ₹469\n",
       "97              Feens  Stylish & Comfortable Casual Sports Walking Sn...  ₹265\n",
       "98              BIRDE                                   Sneakers For Men  ₹535\n",
       "99           CALCADOS  Modern Trendy Shoes Combo pack of 4 Sneakers F...  ₹899\n",
       "\n",
       "[100 rows x 3 columns]"
      ]
     },
     "execution_count": 169,
     "metadata": {},
     "output_type": "execute_result"
    }
   ],
   "source": [
    "Brand=Brand[0:100]\n",
    "Product_discription=Product_discription[0:100]\n",
    "Price=Price[0:100]\n",
    "\n",
    "Sneakers=pd.DataFrame({'Brand':Brand,\n",
    "                       'Product_discription':Product_discription,\n",
    "                       'Price':Price\n",
    "                       \n",
    "})\n",
    "\n",
    "Sneakers\n",
    "\n",
    "driver.close()"
   ]
  },
  {
   "cell_type": "markdown",
   "id": "851f159a",
   "metadata": {},
   "source": [
    "Q7: Go to the link - https://www.myntra.com/shoes \n",
    "Set Price filter to “Rs. 6649 to Rs. 13099” , Color filter to “Black”, as shown in the below image.\n",
    "\n",
    "And then scrape First 100 shoes data you get. The data should include “Brand” of the shoes , Short Shoe \n",
    "description, price of the shoe as shown in the below image. "
   ]
  },
  {
   "cell_type": "code",
   "execution_count": 171,
   "id": "7d227207",
   "metadata": {},
   "outputs": [],
   "source": [
    "driver=webdriver.Chrome(r'C:/Users/91995/Downloads/chromedriver_win32/chromedriver.exe')\n",
    "driver.get('https://www.myntra.com/shoes')"
   ]
  },
  {
   "cell_type": "code",
   "execution_count": 198,
   "id": "26f0910e",
   "metadata": {},
   "outputs": [
    {
     "ename": "NoSuchElementException",
     "evalue": "Message: no such element: Unable to locate element: {\"method\":\"xpath\",\"selector\":\"//ul[@class='price-list']/label/input\"}\n  (Session info: chrome=96.0.4664.110)\nStacktrace:\nBacktrace:\n\tOrdinal0 [0x00A76903+2517251]\n\tOrdinal0 [0x00A0F8E1+2095329]\n\tOrdinal0 [0x00912848+1058888]\n\tOrdinal0 [0x0093D448+1233992]\n\tOrdinal0 [0x0093D63B+1234491]\n\tOrdinal0 [0x00967812+1406994]\n\tOrdinal0 [0x0095650A+1336586]\n\tOrdinal0 [0x00965BBF+1399743]\n\tOrdinal0 [0x0095639B+1336219]\n\tOrdinal0 [0x009327A7+1189799]\n\tOrdinal0 [0x00933609+1193481]\n\tGetHandleVerifier [0x00C05904+1577972]\n\tGetHandleVerifier [0x00CB0B97+2279047]\n\tGetHandleVerifier [0x00B06D09+534521]\n\tGetHandleVerifier [0x00B05DB9+530601]\n\tOrdinal0 [0x00A14FF9+2117625]\n\tOrdinal0 [0x00A198A8+2136232]\n\tOrdinal0 [0x00A199E2+2136546]\n\tOrdinal0 [0x00A23541+2176321]\n\tBaseThreadInitThunk [0x762DFA29+25]\n\tRtlGetAppContainerNamedObjectPath [0x77C37A9E+286]\n\tRtlGetAppContainerNamedObjectPath [0x77C37A6E+238]\n",
     "output_type": "error",
     "traceback": [
      "\u001b[1;31m---------------------------------------------------------------------------\u001b[0m",
      "\u001b[1;31mNoSuchElementException\u001b[0m                    Traceback (most recent call last)",
      "\u001b[1;32m<ipython-input-198-26982c71bc09>\u001b[0m in \u001b[0;36m<module>\u001b[1;34m\u001b[0m\n\u001b[0;32m      3\u001b[0m \u001b[1;33m\u001b[0m\u001b[0m\n\u001b[0;32m      4\u001b[0m \u001b[1;33m\u001b[0m\u001b[0m\n\u001b[1;32m----> 5\u001b[1;33m \u001b[0mcolor\u001b[0m\u001b[1;33m=\u001b[0m\u001b[0mdriver\u001b[0m\u001b[1;33m.\u001b[0m\u001b[0mfind_element_by_xpath\u001b[0m\u001b[1;33m(\u001b[0m\u001b[1;34m\"//ul[@class='price-list']/label/input\"\u001b[0m\u001b[1;33m)\u001b[0m\u001b[1;33m\u001b[0m\u001b[1;33m\u001b[0m\u001b[0m\n\u001b[0m\u001b[0;32m      6\u001b[0m \u001b[1;33m\u001b[0m\u001b[0m\n\u001b[0;32m      7\u001b[0m \u001b[0mcolor\u001b[0m\u001b[1;33m.\u001b[0m\u001b[0mclick\u001b[0m\u001b[1;33m(\u001b[0m\u001b[1;33m)\u001b[0m\u001b[1;33m\u001b[0m\u001b[1;33m\u001b[0m\u001b[0m\n",
      "\u001b[1;32m~\\anaconda3\\lib\\site-packages\\selenium\\webdriver\\remote\\webdriver.py\u001b[0m in \u001b[0;36mfind_element_by_xpath\u001b[1;34m(self, xpath)\u001b[0m\n\u001b[0;32m    518\u001b[0m             \u001b[0mstacklevel\u001b[0m\u001b[1;33m=\u001b[0m\u001b[1;36m2\u001b[0m\u001b[1;33m,\u001b[0m\u001b[1;33m\u001b[0m\u001b[1;33m\u001b[0m\u001b[0m\n\u001b[0;32m    519\u001b[0m         )\n\u001b[1;32m--> 520\u001b[1;33m         \u001b[1;32mreturn\u001b[0m \u001b[0mself\u001b[0m\u001b[1;33m.\u001b[0m\u001b[0mfind_element\u001b[0m\u001b[1;33m(\u001b[0m\u001b[0mby\u001b[0m\u001b[1;33m=\u001b[0m\u001b[0mBy\u001b[0m\u001b[1;33m.\u001b[0m\u001b[0mXPATH\u001b[0m\u001b[1;33m,\u001b[0m \u001b[0mvalue\u001b[0m\u001b[1;33m=\u001b[0m\u001b[0mxpath\u001b[0m\u001b[1;33m)\u001b[0m\u001b[1;33m\u001b[0m\u001b[1;33m\u001b[0m\u001b[0m\n\u001b[0m\u001b[0;32m    521\u001b[0m \u001b[1;33m\u001b[0m\u001b[0m\n\u001b[0;32m    522\u001b[0m     \u001b[1;32mdef\u001b[0m \u001b[0mfind_elements_by_xpath\u001b[0m\u001b[1;33m(\u001b[0m\u001b[0mself\u001b[0m\u001b[1;33m,\u001b[0m \u001b[0mxpath\u001b[0m\u001b[1;33m)\u001b[0m \u001b[1;33m->\u001b[0m \u001b[0mWebElement\u001b[0m\u001b[1;33m:\u001b[0m\u001b[1;33m\u001b[0m\u001b[1;33m\u001b[0m\u001b[0m\n",
      "\u001b[1;32m~\\anaconda3\\lib\\site-packages\\selenium\\webdriver\\remote\\webdriver.py\u001b[0m in \u001b[0;36mfind_element\u001b[1;34m(self, by, value)\u001b[0m\n\u001b[0;32m   1242\u001b[0m             \u001b[0mvalue\u001b[0m \u001b[1;33m=\u001b[0m \u001b[1;34m'[name=\"%s\"]'\u001b[0m \u001b[1;33m%\u001b[0m \u001b[0mvalue\u001b[0m\u001b[1;33m\u001b[0m\u001b[1;33m\u001b[0m\u001b[0m\n\u001b[0;32m   1243\u001b[0m \u001b[1;33m\u001b[0m\u001b[0m\n\u001b[1;32m-> 1244\u001b[1;33m         return self.execute(Command.FIND_ELEMENT, {\n\u001b[0m\u001b[0;32m   1245\u001b[0m             \u001b[1;34m'using'\u001b[0m\u001b[1;33m:\u001b[0m \u001b[0mby\u001b[0m\u001b[1;33m,\u001b[0m\u001b[1;33m\u001b[0m\u001b[1;33m\u001b[0m\u001b[0m\n\u001b[0;32m   1246\u001b[0m             'value': value})['value']\n",
      "\u001b[1;32m~\\anaconda3\\lib\\site-packages\\selenium\\webdriver\\remote\\webdriver.py\u001b[0m in \u001b[0;36mexecute\u001b[1;34m(self, driver_command, params)\u001b[0m\n\u001b[0;32m    422\u001b[0m         \u001b[0mresponse\u001b[0m \u001b[1;33m=\u001b[0m \u001b[0mself\u001b[0m\u001b[1;33m.\u001b[0m\u001b[0mcommand_executor\u001b[0m\u001b[1;33m.\u001b[0m\u001b[0mexecute\u001b[0m\u001b[1;33m(\u001b[0m\u001b[0mdriver_command\u001b[0m\u001b[1;33m,\u001b[0m \u001b[0mparams\u001b[0m\u001b[1;33m)\u001b[0m\u001b[1;33m\u001b[0m\u001b[1;33m\u001b[0m\u001b[0m\n\u001b[0;32m    423\u001b[0m         \u001b[1;32mif\u001b[0m \u001b[0mresponse\u001b[0m\u001b[1;33m:\u001b[0m\u001b[1;33m\u001b[0m\u001b[1;33m\u001b[0m\u001b[0m\n\u001b[1;32m--> 424\u001b[1;33m             \u001b[0mself\u001b[0m\u001b[1;33m.\u001b[0m\u001b[0merror_handler\u001b[0m\u001b[1;33m.\u001b[0m\u001b[0mcheck_response\u001b[0m\u001b[1;33m(\u001b[0m\u001b[0mresponse\u001b[0m\u001b[1;33m)\u001b[0m\u001b[1;33m\u001b[0m\u001b[1;33m\u001b[0m\u001b[0m\n\u001b[0m\u001b[0;32m    425\u001b[0m             response['value'] = self._unwrap_value(\n\u001b[0;32m    426\u001b[0m                 response.get('value', None))\n",
      "\u001b[1;32m~\\anaconda3\\lib\\site-packages\\selenium\\webdriver\\remote\\errorhandler.py\u001b[0m in \u001b[0;36mcheck_response\u001b[1;34m(self, response)\u001b[0m\n\u001b[0;32m    245\u001b[0m                 \u001b[0malert_text\u001b[0m \u001b[1;33m=\u001b[0m \u001b[0mvalue\u001b[0m\u001b[1;33m[\u001b[0m\u001b[1;34m'alert'\u001b[0m\u001b[1;33m]\u001b[0m\u001b[1;33m.\u001b[0m\u001b[0mget\u001b[0m\u001b[1;33m(\u001b[0m\u001b[1;34m'text'\u001b[0m\u001b[1;33m)\u001b[0m\u001b[1;33m\u001b[0m\u001b[1;33m\u001b[0m\u001b[0m\n\u001b[0;32m    246\u001b[0m             \u001b[1;32mraise\u001b[0m \u001b[0mexception_class\u001b[0m\u001b[1;33m(\u001b[0m\u001b[0mmessage\u001b[0m\u001b[1;33m,\u001b[0m \u001b[0mscreen\u001b[0m\u001b[1;33m,\u001b[0m \u001b[0mstacktrace\u001b[0m\u001b[1;33m,\u001b[0m \u001b[0malert_text\u001b[0m\u001b[1;33m)\u001b[0m  \u001b[1;31m# type: ignore[call-arg]  # mypy is not smart enough here\u001b[0m\u001b[1;33m\u001b[0m\u001b[1;33m\u001b[0m\u001b[0m\n\u001b[1;32m--> 247\u001b[1;33m         \u001b[1;32mraise\u001b[0m \u001b[0mexception_class\u001b[0m\u001b[1;33m(\u001b[0m\u001b[0mmessage\u001b[0m\u001b[1;33m,\u001b[0m \u001b[0mscreen\u001b[0m\u001b[1;33m,\u001b[0m \u001b[0mstacktrace\u001b[0m\u001b[1;33m)\u001b[0m\u001b[1;33m\u001b[0m\u001b[1;33m\u001b[0m\u001b[0m\n\u001b[0m\u001b[0;32m    248\u001b[0m \u001b[1;33m\u001b[0m\u001b[0m\n\u001b[0;32m    249\u001b[0m     \u001b[1;32mdef\u001b[0m \u001b[0m_value_or_default\u001b[0m\u001b[1;33m(\u001b[0m\u001b[0mself\u001b[0m\u001b[1;33m,\u001b[0m \u001b[0mobj\u001b[0m\u001b[1;33m:\u001b[0m \u001b[0mMapping\u001b[0m\u001b[1;33m[\u001b[0m\u001b[0m_KT\u001b[0m\u001b[1;33m,\u001b[0m \u001b[0m_VT\u001b[0m\u001b[1;33m]\u001b[0m\u001b[1;33m,\u001b[0m \u001b[0mkey\u001b[0m\u001b[1;33m:\u001b[0m \u001b[0m_KT\u001b[0m\u001b[1;33m,\u001b[0m \u001b[0mdefault\u001b[0m\u001b[1;33m:\u001b[0m \u001b[0m_VT\u001b[0m\u001b[1;33m)\u001b[0m \u001b[1;33m->\u001b[0m \u001b[0m_VT\u001b[0m\u001b[1;33m:\u001b[0m\u001b[1;33m\u001b[0m\u001b[1;33m\u001b[0m\u001b[0m\n",
      "\u001b[1;31mNoSuchElementException\u001b[0m: Message: no such element: Unable to locate element: {\"method\":\"xpath\",\"selector\":\"//ul[@class='price-list']/label/input\"}\n  (Session info: chrome=96.0.4664.110)\nStacktrace:\nBacktrace:\n\tOrdinal0 [0x00A76903+2517251]\n\tOrdinal0 [0x00A0F8E1+2095329]\n\tOrdinal0 [0x00912848+1058888]\n\tOrdinal0 [0x0093D448+1233992]\n\tOrdinal0 [0x0093D63B+1234491]\n\tOrdinal0 [0x00967812+1406994]\n\tOrdinal0 [0x0095650A+1336586]\n\tOrdinal0 [0x00965BBF+1399743]\n\tOrdinal0 [0x0095639B+1336219]\n\tOrdinal0 [0x009327A7+1189799]\n\tOrdinal0 [0x00933609+1193481]\n\tGetHandleVerifier [0x00C05904+1577972]\n\tGetHandleVerifier [0x00CB0B97+2279047]\n\tGetHandleVerifier [0x00B06D09+534521]\n\tGetHandleVerifier [0x00B05DB9+530601]\n\tOrdinal0 [0x00A14FF9+2117625]\n\tOrdinal0 [0x00A198A8+2136232]\n\tOrdinal0 [0x00A199E2+2136546]\n\tOrdinal0 [0x00A23541+2176321]\n\tBaseThreadInitThunk [0x762DFA29+25]\n\tRtlGetAppContainerNamedObjectPath [0x77C37A9E+286]\n\tRtlGetAppContainerNamedObjectPath [0x77C37A6E+238]\n"
     ]
    }
   ],
   "source": [
    "#filters\n",
    "\n",
    "\n",
    "\n",
    "color=driver.find_element_by_xpath(\"//ul[@class='price-list']/label/input\")\n",
    "\n",
    "color.click()\n",
    "\n",
    "\n",
    "# sal=driver.find_element_by_xpath(\"//span[@title='3-6 Lakhs']\")\n",
    "# sal.click()"
   ]
  },
  {
   "cell_type": "code",
   "execution_count": 194,
   "id": "daaa0bf1",
   "metadata": {},
   "outputs": [
    {
     "ename": "ElementClickInterceptedException",
     "evalue": "Message: element click intercepted: Element <div class=\"common-checkboxIndicator\"></div> is not clickable at point (33, 8). Other element would receive the click: <div class=\"desktop-logoContainer\" data-reactid=\"15\">...</div>\n  (Session info: chrome=96.0.4664.110)\nStacktrace:\nBacktrace:\n\tOrdinal0 [0x00A76903+2517251]\n\tOrdinal0 [0x00A0F8E1+2095329]\n\tOrdinal0 [0x00912848+1058888]\n\tOrdinal0 [0x00943509+1258761]\n\tOrdinal0 [0x00941868+1251432]\n\tOrdinal0 [0x0093F65D+1242717]\n\tOrdinal0 [0x0093E4A8+1238184]\n\tOrdinal0 [0x00934037+1196087]\n\tOrdinal0 [0x009564D3+1336531]\n\tOrdinal0 [0x00933A36+1194550]\n\tOrdinal0 [0x009565BA+1336762]\n\tOrdinal0 [0x00965BBF+1399743]\n\tOrdinal0 [0x0095639B+1336219]\n\tOrdinal0 [0x009327A7+1189799]\n\tOrdinal0 [0x00933609+1193481]\n\tGetHandleVerifier [0x00C05904+1577972]\n\tGetHandleVerifier [0x00CB0B97+2279047]\n\tGetHandleVerifier [0x00B06D09+534521]\n\tGetHandleVerifier [0x00B05DB9+530601]\n\tOrdinal0 [0x00A14FF9+2117625]\n\tOrdinal0 [0x00A198A8+2136232]\n\tOrdinal0 [0x00A199E2+2136546]\n\tOrdinal0 [0x00A23541+2176321]\n\tBaseThreadInitThunk [0x762DFA29+25]\n\tRtlGetAppContainerNamedObjectPath [0x77C37A9E+286]\n\tRtlGetAppContainerNamedObjectPath [0x77C37A6E+238]\n",
     "output_type": "error",
     "traceback": [
      "\u001b[1;31m---------------------------------------------------------------------------\u001b[0m",
      "\u001b[1;31mElementClickInterceptedException\u001b[0m          Traceback (most recent call last)",
      "\u001b[1;32m<ipython-input-194-4d7369909a47>\u001b[0m in \u001b[0;36m<module>\u001b[1;34m\u001b[0m\n\u001b[0;32m      1\u001b[0m \u001b[0mpr\u001b[0m\u001b[1;33m=\u001b[0m\u001b[0mdriver\u001b[0m\u001b[1;33m.\u001b[0m\u001b[0mfind_element_by_xpath\u001b[0m\u001b[1;33m(\u001b[0m\u001b[1;34m\"//div[@class='common-checkboxIndicator'][1]\"\u001b[0m\u001b[1;33m)\u001b[0m\u001b[1;33m\u001b[0m\u001b[1;33m\u001b[0m\u001b[0m\n\u001b[0;32m      2\u001b[0m \u001b[1;33m\u001b[0m\u001b[0m\n\u001b[1;32m----> 3\u001b[1;33m \u001b[0mpr\u001b[0m\u001b[1;33m.\u001b[0m\u001b[0mclick\u001b[0m\u001b[1;33m(\u001b[0m\u001b[1;33m)\u001b[0m\u001b[1;33m\u001b[0m\u001b[1;33m\u001b[0m\u001b[0m\n\u001b[0m",
      "\u001b[1;32m~\\anaconda3\\lib\\site-packages\\selenium\\webdriver\\remote\\webelement.py\u001b[0m in \u001b[0;36mclick\u001b[1;34m(self)\u001b[0m\n\u001b[0;32m     79\u001b[0m     \u001b[1;32mdef\u001b[0m \u001b[0mclick\u001b[0m\u001b[1;33m(\u001b[0m\u001b[0mself\u001b[0m\u001b[1;33m)\u001b[0m \u001b[1;33m->\u001b[0m \u001b[1;32mNone\u001b[0m\u001b[1;33m:\u001b[0m\u001b[1;33m\u001b[0m\u001b[1;33m\u001b[0m\u001b[0m\n\u001b[0;32m     80\u001b[0m         \u001b[1;34m\"\"\"Clicks the element.\"\"\"\u001b[0m\u001b[1;33m\u001b[0m\u001b[1;33m\u001b[0m\u001b[0m\n\u001b[1;32m---> 81\u001b[1;33m         \u001b[0mself\u001b[0m\u001b[1;33m.\u001b[0m\u001b[0m_execute\u001b[0m\u001b[1;33m(\u001b[0m\u001b[0mCommand\u001b[0m\u001b[1;33m.\u001b[0m\u001b[0mCLICK_ELEMENT\u001b[0m\u001b[1;33m)\u001b[0m\u001b[1;33m\u001b[0m\u001b[1;33m\u001b[0m\u001b[0m\n\u001b[0m\u001b[0;32m     82\u001b[0m \u001b[1;33m\u001b[0m\u001b[0m\n\u001b[0;32m     83\u001b[0m     \u001b[1;32mdef\u001b[0m \u001b[0msubmit\u001b[0m\u001b[1;33m(\u001b[0m\u001b[0mself\u001b[0m\u001b[1;33m)\u001b[0m\u001b[1;33m:\u001b[0m\u001b[1;33m\u001b[0m\u001b[1;33m\u001b[0m\u001b[0m\n",
      "\u001b[1;32m~\\anaconda3\\lib\\site-packages\\selenium\\webdriver\\remote\\webelement.py\u001b[0m in \u001b[0;36m_execute\u001b[1;34m(self, command, params)\u001b[0m\n\u001b[0;32m    708\u001b[0m             \u001b[0mparams\u001b[0m \u001b[1;33m=\u001b[0m \u001b[1;33m{\u001b[0m\u001b[1;33m}\u001b[0m\u001b[1;33m\u001b[0m\u001b[1;33m\u001b[0m\u001b[0m\n\u001b[0;32m    709\u001b[0m         \u001b[0mparams\u001b[0m\u001b[1;33m[\u001b[0m\u001b[1;34m'id'\u001b[0m\u001b[1;33m]\u001b[0m \u001b[1;33m=\u001b[0m \u001b[0mself\u001b[0m\u001b[1;33m.\u001b[0m\u001b[0m_id\u001b[0m\u001b[1;33m\u001b[0m\u001b[1;33m\u001b[0m\u001b[0m\n\u001b[1;32m--> 710\u001b[1;33m         \u001b[1;32mreturn\u001b[0m \u001b[0mself\u001b[0m\u001b[1;33m.\u001b[0m\u001b[0m_parent\u001b[0m\u001b[1;33m.\u001b[0m\u001b[0mexecute\u001b[0m\u001b[1;33m(\u001b[0m\u001b[0mcommand\u001b[0m\u001b[1;33m,\u001b[0m \u001b[0mparams\u001b[0m\u001b[1;33m)\u001b[0m\u001b[1;33m\u001b[0m\u001b[1;33m\u001b[0m\u001b[0m\n\u001b[0m\u001b[0;32m    711\u001b[0m \u001b[1;33m\u001b[0m\u001b[0m\n\u001b[0;32m    712\u001b[0m     \u001b[1;32mdef\u001b[0m \u001b[0mfind_element\u001b[0m\u001b[1;33m(\u001b[0m\u001b[0mself\u001b[0m\u001b[1;33m,\u001b[0m \u001b[0mby\u001b[0m\u001b[1;33m=\u001b[0m\u001b[0mBy\u001b[0m\u001b[1;33m.\u001b[0m\u001b[0mID\u001b[0m\u001b[1;33m,\u001b[0m \u001b[0mvalue\u001b[0m\u001b[1;33m=\u001b[0m\u001b[1;32mNone\u001b[0m\u001b[1;33m)\u001b[0m\u001b[1;33m:\u001b[0m\u001b[1;33m\u001b[0m\u001b[1;33m\u001b[0m\u001b[0m\n",
      "\u001b[1;32m~\\anaconda3\\lib\\site-packages\\selenium\\webdriver\\remote\\webdriver.py\u001b[0m in \u001b[0;36mexecute\u001b[1;34m(self, driver_command, params)\u001b[0m\n\u001b[0;32m    422\u001b[0m         \u001b[0mresponse\u001b[0m \u001b[1;33m=\u001b[0m \u001b[0mself\u001b[0m\u001b[1;33m.\u001b[0m\u001b[0mcommand_executor\u001b[0m\u001b[1;33m.\u001b[0m\u001b[0mexecute\u001b[0m\u001b[1;33m(\u001b[0m\u001b[0mdriver_command\u001b[0m\u001b[1;33m,\u001b[0m \u001b[0mparams\u001b[0m\u001b[1;33m)\u001b[0m\u001b[1;33m\u001b[0m\u001b[1;33m\u001b[0m\u001b[0m\n\u001b[0;32m    423\u001b[0m         \u001b[1;32mif\u001b[0m \u001b[0mresponse\u001b[0m\u001b[1;33m:\u001b[0m\u001b[1;33m\u001b[0m\u001b[1;33m\u001b[0m\u001b[0m\n\u001b[1;32m--> 424\u001b[1;33m             \u001b[0mself\u001b[0m\u001b[1;33m.\u001b[0m\u001b[0merror_handler\u001b[0m\u001b[1;33m.\u001b[0m\u001b[0mcheck_response\u001b[0m\u001b[1;33m(\u001b[0m\u001b[0mresponse\u001b[0m\u001b[1;33m)\u001b[0m\u001b[1;33m\u001b[0m\u001b[1;33m\u001b[0m\u001b[0m\n\u001b[0m\u001b[0;32m    425\u001b[0m             response['value'] = self._unwrap_value(\n\u001b[0;32m    426\u001b[0m                 response.get('value', None))\n",
      "\u001b[1;32m~\\anaconda3\\lib\\site-packages\\selenium\\webdriver\\remote\\errorhandler.py\u001b[0m in \u001b[0;36mcheck_response\u001b[1;34m(self, response)\u001b[0m\n\u001b[0;32m    245\u001b[0m                 \u001b[0malert_text\u001b[0m \u001b[1;33m=\u001b[0m \u001b[0mvalue\u001b[0m\u001b[1;33m[\u001b[0m\u001b[1;34m'alert'\u001b[0m\u001b[1;33m]\u001b[0m\u001b[1;33m.\u001b[0m\u001b[0mget\u001b[0m\u001b[1;33m(\u001b[0m\u001b[1;34m'text'\u001b[0m\u001b[1;33m)\u001b[0m\u001b[1;33m\u001b[0m\u001b[1;33m\u001b[0m\u001b[0m\n\u001b[0;32m    246\u001b[0m             \u001b[1;32mraise\u001b[0m \u001b[0mexception_class\u001b[0m\u001b[1;33m(\u001b[0m\u001b[0mmessage\u001b[0m\u001b[1;33m,\u001b[0m \u001b[0mscreen\u001b[0m\u001b[1;33m,\u001b[0m \u001b[0mstacktrace\u001b[0m\u001b[1;33m,\u001b[0m \u001b[0malert_text\u001b[0m\u001b[1;33m)\u001b[0m  \u001b[1;31m# type: ignore[call-arg]  # mypy is not smart enough here\u001b[0m\u001b[1;33m\u001b[0m\u001b[1;33m\u001b[0m\u001b[0m\n\u001b[1;32m--> 247\u001b[1;33m         \u001b[1;32mraise\u001b[0m \u001b[0mexception_class\u001b[0m\u001b[1;33m(\u001b[0m\u001b[0mmessage\u001b[0m\u001b[1;33m,\u001b[0m \u001b[0mscreen\u001b[0m\u001b[1;33m,\u001b[0m \u001b[0mstacktrace\u001b[0m\u001b[1;33m)\u001b[0m\u001b[1;33m\u001b[0m\u001b[1;33m\u001b[0m\u001b[0m\n\u001b[0m\u001b[0;32m    248\u001b[0m \u001b[1;33m\u001b[0m\u001b[0m\n\u001b[0;32m    249\u001b[0m     \u001b[1;32mdef\u001b[0m \u001b[0m_value_or_default\u001b[0m\u001b[1;33m(\u001b[0m\u001b[0mself\u001b[0m\u001b[1;33m,\u001b[0m \u001b[0mobj\u001b[0m\u001b[1;33m:\u001b[0m \u001b[0mMapping\u001b[0m\u001b[1;33m[\u001b[0m\u001b[0m_KT\u001b[0m\u001b[1;33m,\u001b[0m \u001b[0m_VT\u001b[0m\u001b[1;33m]\u001b[0m\u001b[1;33m,\u001b[0m \u001b[0mkey\u001b[0m\u001b[1;33m:\u001b[0m \u001b[0m_KT\u001b[0m\u001b[1;33m,\u001b[0m \u001b[0mdefault\u001b[0m\u001b[1;33m:\u001b[0m \u001b[0m_VT\u001b[0m\u001b[1;33m)\u001b[0m \u001b[1;33m->\u001b[0m \u001b[0m_VT\u001b[0m\u001b[1;33m:\u001b[0m\u001b[1;33m\u001b[0m\u001b[1;33m\u001b[0m\u001b[0m\n",
      "\u001b[1;31mElementClickInterceptedException\u001b[0m: Message: element click intercepted: Element <div class=\"common-checkboxIndicator\"></div> is not clickable at point (33, 8). Other element would receive the click: <div class=\"desktop-logoContainer\" data-reactid=\"15\">...</div>\n  (Session info: chrome=96.0.4664.110)\nStacktrace:\nBacktrace:\n\tOrdinal0 [0x00A76903+2517251]\n\tOrdinal0 [0x00A0F8E1+2095329]\n\tOrdinal0 [0x00912848+1058888]\n\tOrdinal0 [0x00943509+1258761]\n\tOrdinal0 [0x00941868+1251432]\n\tOrdinal0 [0x0093F65D+1242717]\n\tOrdinal0 [0x0093E4A8+1238184]\n\tOrdinal0 [0x00934037+1196087]\n\tOrdinal0 [0x009564D3+1336531]\n\tOrdinal0 [0x00933A36+1194550]\n\tOrdinal0 [0x009565BA+1336762]\n\tOrdinal0 [0x00965BBF+1399743]\n\tOrdinal0 [0x0095639B+1336219]\n\tOrdinal0 [0x009327A7+1189799]\n\tOrdinal0 [0x00933609+1193481]\n\tGetHandleVerifier [0x00C05904+1577972]\n\tGetHandleVerifier [0x00CB0B97+2279047]\n\tGetHandleVerifier [0x00B06D09+534521]\n\tGetHandleVerifier [0x00B05DB9+530601]\n\tOrdinal0 [0x00A14FF9+2117625]\n\tOrdinal0 [0x00A198A8+2136232]\n\tOrdinal0 [0x00A199E2+2136546]\n\tOrdinal0 [0x00A23541+2176321]\n\tBaseThreadInitThunk [0x762DFA29+25]\n\tRtlGetAppContainerNamedObjectPath [0x77C37A9E+286]\n\tRtlGetAppContainerNamedObjectPath [0x77C37A6E+238]\n"
     ]
    }
   ],
   "source": [
    "pr=driver.find_element_by_xpath(\"//div[@class='common-checkboxIndicator'][1]\")\n",
    "\n",
    "pr.click()"
   ]
  },
  {
   "cell_type": "code",
   "execution_count": null,
   "id": "735cfd0f",
   "metadata": {},
   "outputs": [],
   "source": []
  },
  {
   "cell_type": "markdown",
   "id": "68c920ad",
   "metadata": {},
   "source": [
    "Q8: Go to webpage https://www.amazon.in/ \n",
    "Enter “Laptop” in the search field and then click the search icon. \n",
    "Then set CPU Type filter to “Intel Core i7” and “Intel Core i9” as shown in the below image: \n",
    "    \n",
    "After setting the filters scrape first 10 laptops data. You have to scrape 3 attributes for each laptop: \n",
    "1. Title \n",
    "2. Ratings \n",
    "3. Price \n",
    "As shown in the below image as the tick marked attributes.    "
   ]
  },
  {
   "cell_type": "code",
   "execution_count": 5,
   "id": "01d734b1",
   "metadata": {},
   "outputs": [],
   "source": [
    "driver=webdriver.Chrome(r'C:/Users/91995/Downloads/chromedriver_win32/chromedriver.exe')\n",
    "driver.get('https://www.amazon.in/')"
   ]
  },
  {
   "cell_type": "code",
   "execution_count": 6,
   "id": "8c245687",
   "metadata": {},
   "outputs": [],
   "source": [
    "search=driver.find_element_by_id('twotabsearchtextbox')\n",
    "search.send_keys('Laptop')\n",
    "\n",
    "driver.find_element_by_id('nav-search-submit-button').click()"
   ]
  },
  {
   "cell_type": "code",
   "execution_count": 55,
   "id": "5cdc2a3c",
   "metadata": {},
   "outputs": [],
   "source": [
    "#unable to set filter of CPU so filtering manually and proceed further.\n",
    "\n",
    "#Blank lists\n",
    "\n",
    "Title=[]\n",
    "Ratings=[]\n",
    "Price=[]\n",
    "\n",
    "t=driver.find_elements_by_xpath(\"//span[@class='a-size-medium a-color-base a-text-normal' or @class='a-link-normal a-text-normal']\")\n",
    "\n",
    "for i in t:\n",
    "    Title.append(i.text)\n",
    "    \n",
    "Title=Title[0:10]\n",
    "\n",
    "r=driver.find_elements_by_xpath(\"//i[@class='a-icon a-icon-star-small a-star-small-4-5 aok-align-bottom']\")\n",
    "\n",
    "for i in r:\n",
    "    Ratings.append(i.text)\n",
    "    \n",
    "Ratings=Ratings[0:10]\n",
    "\n",
    "\n",
    "p=driver.find_elements_by_xpath(\"//span[@class='a-price-whole']\")\n",
    "\n",
    "for i in p:\n",
    "    Price.append(i.text)\n",
    "    \n",
    "Price=Price[0:10]"
   ]
  },
  {
   "cell_type": "code",
   "execution_count": 56,
   "id": "70702c38",
   "metadata": {},
   "outputs": [
    {
     "name": "stdout",
     "output_type": "stream",
     "text": [
      "10 10 10\n"
     ]
    }
   ],
   "source": [
    "print(len(Title),len(Ratings),len(Price))"
   ]
  },
  {
   "cell_type": "code",
   "execution_count": 57,
   "id": "c0dc45bb",
   "metadata": {},
   "outputs": [],
   "source": [
    "#creating DataFrame\n",
    "\n",
    "Laptop_data=pd.DataFrame({'Title':Title,\n",
    "                          'Ratings':Ratings,\n",
    "                          'Price':Price\n",
    "    \n",
    "})"
   ]
  },
  {
   "cell_type": "code",
   "execution_count": 59,
   "id": "526630dd",
   "metadata": {},
   "outputs": [],
   "source": [
    "Laptop_data\n",
    "\n",
    "driver.close()"
   ]
  },
  {
   "cell_type": "markdown",
   "id": "366c7e6e",
   "metadata": {},
   "source": [
    "9: Write a python program to scrape data for first 10 job results for Data Scientist Designation in Noida \n",
    "location. You have to scrape company name, No. of days ago when job was posted, Rating of the company. \n",
    "This task will be done in following steps: \n",
    "1. First get the webpage https://www.ambitionbox.com/\n",
    "2. Click on the Job option as shown in the image "
   ]
  },
  {
   "cell_type": "code",
   "execution_count": 60,
   "id": "f3aa7c41",
   "metadata": {},
   "outputs": [],
   "source": [
    "driver=webdriver.Chrome(r'C:/Users/91995/Downloads/chromedriver_win32/chromedriver.exe')\n",
    "driver.get('https://www.ambitionbox.com/')"
   ]
  },
  {
   "cell_type": "code",
   "execution_count": 63,
   "id": "fb1228bc",
   "metadata": {},
   "outputs": [],
   "source": [
    "job_link=driver.find_element_by_xpath(\"//a[@class='link jobs']\")\n",
    "\n",
    "job_link.click()"
   ]
  },
  {
   "cell_type": "markdown",
   "id": "aafaaae4",
   "metadata": {},
   "source": [
    "3. After reaching to the next webpage, In place of “Search by Designations, Companies, Skills” enter \n",
    "“Data Scientist” and click on search button. "
   ]
  },
  {
   "cell_type": "code",
   "execution_count": 66,
   "id": "ad39e5fd",
   "metadata": {},
   "outputs": [],
   "source": [
    "job_title=driver.find_element_by_xpath(\"//input[@title='Enter Designation, Company or a Skill']\")\n",
    "\n",
    "job_title.send_keys('Data Scientist')"
   ]
  },
  {
   "cell_type": "code",
   "execution_count": 67,
   "id": "0030015f",
   "metadata": {},
   "outputs": [],
   "source": [
    "search=driver.find_element_by_xpath(\"//button[@class='ab_btn search-btn round']\")\n",
    "\n",
    "search.click()"
   ]
  },
  {
   "cell_type": "markdown",
   "id": "df920fe4",
   "metadata": {},
   "source": [
    "4. You will reach to the following web page click on location and in place of “Search location” enter \n",
    "“Noida” and select location “Noida”."
   ]
  },
  {
   "cell_type": "code",
   "execution_count": 72,
   "id": "fc2a29ce",
   "metadata": {},
   "outputs": [],
   "source": [
    "loc=driver.find_element_by_xpath(\"//div[@title='Location']\")\n",
    "loc.click()"
   ]
  },
  {
   "cell_type": "code",
   "execution_count": 74,
   "id": "ab30dc8f",
   "metadata": {},
   "outputs": [],
   "source": [
    "driver.find_element_by_id('location_Noida').click()\n"
   ]
  },
  {
   "cell_type": "markdown",
   "id": "a50cf516",
   "metadata": {},
   "source": [
    "5. Then scrape the data for the first 10 jobs results you get on the above shown page. \n",
    "6. Finally create a dataframe of the scraped data."
   ]
  },
  {
   "cell_type": "code",
   "execution_count": 153,
   "id": "76824d32",
   "metadata": {},
   "outputs": [],
   "source": [
    "#creating blank list\n",
    "Company_name=[]\n",
    "posted_days=[]\n",
    "Ratings=[]\n",
    "\n",
    "C=driver.find_elements_by_xpath(\"//div[@class='company-info']/p\")\n",
    "\n",
    "for i in C:\n",
    "    Company_name.append(i.text.replace(\"\\n\",\"\"))\n",
    "    \n",
    "Company_name=Company_name[1:11]\n",
    "\n",
    "\n",
    "p=driver.find_elements_by_xpath(\"//span[@class='body-small-l']\")\n",
    "\n",
    "for i in p:\n",
    "    posted_days.append(i.text.replace(\"\\n\",\"\"))\n",
    "    \n",
    "posted_days=posted_days[0:22:2]\n",
    "\n",
    "r=driver.find_elements_by_xpath(\"//span[@class='body-small']\")\n",
    "\n",
    "for i in r:\n",
    "    Ratings.append(i.text.replace(\"\\n\",\"\"))\n",
    "    \n",
    "Ratings=Ratings[0:11]"
   ]
  },
  {
   "cell_type": "code",
   "execution_count": 154,
   "id": "9fb2cfe5",
   "metadata": {},
   "outputs": [
    {
     "name": "stdout",
     "output_type": "stream",
     "text": [
      "10 10 10\n"
     ]
    }
   ],
   "source": [
    "print(len(posted_days),len(Ratings),len(Company_name))"
   ]
  },
  {
   "cell_type": "code",
   "execution_count": 155,
   "id": "c5872a89",
   "metadata": {},
   "outputs": [],
   "source": [
    "job_data=pd.DataFrame({'Company_name':Company_name,\n",
    "                       'posted_days':posted_days,\n",
    "                       'Ratings':Ratings\n",
    "                       \n",
    "                                         \n",
    "    \n",
    "})"
   ]
  },
  {
   "cell_type": "code",
   "execution_count": 156,
   "id": "bc799334",
   "metadata": {},
   "outputs": [
    {
     "data": {
      "text/html": [
       "<div>\n",
       "<style scoped>\n",
       "    .dataframe tbody tr th:only-of-type {\n",
       "        vertical-align: middle;\n",
       "    }\n",
       "\n",
       "    .dataframe tbody tr th {\n",
       "        vertical-align: top;\n",
       "    }\n",
       "\n",
       "    .dataframe thead th {\n",
       "        text-align: right;\n",
       "    }\n",
       "</style>\n",
       "<table border=\"1\" class=\"dataframe\">\n",
       "  <thead>\n",
       "    <tr style=\"text-align: right;\">\n",
       "      <th></th>\n",
       "      <th>Company_name</th>\n",
       "      <th>posted_days</th>\n",
       "      <th>Ratings</th>\n",
       "    </tr>\n",
       "  </thead>\n",
       "  <tbody>\n",
       "    <tr>\n",
       "      <th>0</th>\n",
       "      <td>LG Electronics India Pvt. Ltd.</td>\n",
       "      <td>9d ago</td>\n",
       "      <td>4.1</td>\n",
       "    </tr>\n",
       "    <tr>\n",
       "      <th>1</th>\n",
       "      <td>GENPACT India Private Limited</td>\n",
       "      <td>16d ago</td>\n",
       "      <td>4.0</td>\n",
       "    </tr>\n",
       "    <tr>\n",
       "      <th>2</th>\n",
       "      <td>GENPACT India Private Limited</td>\n",
       "      <td>16d ago</td>\n",
       "      <td>4.0</td>\n",
       "    </tr>\n",
       "    <tr>\n",
       "      <th>3</th>\n",
       "      <td>NTT Data Business Solutions Pvt Ltd</td>\n",
       "      <td>17d ago</td>\n",
       "      <td>3.8</td>\n",
       "    </tr>\n",
       "    <tr>\n",
       "      <th>4</th>\n",
       "      <td>GENPACT India Private Limited</td>\n",
       "      <td>18d ago</td>\n",
       "      <td>4.0</td>\n",
       "    </tr>\n",
       "    <tr>\n",
       "      <th>5</th>\n",
       "      <td>Paytm</td>\n",
       "      <td>3d ago</td>\n",
       "      <td>3.7</td>\n",
       "    </tr>\n",
       "    <tr>\n",
       "      <th>6</th>\n",
       "      <td>GI Group</td>\n",
       "      <td>2d ago</td>\n",
       "      <td>4.0</td>\n",
       "    </tr>\n",
       "    <tr>\n",
       "      <th>7</th>\n",
       "      <td>GI Group</td>\n",
       "      <td>2d ago</td>\n",
       "      <td>4.0</td>\n",
       "    </tr>\n",
       "    <tr>\n",
       "      <th>8</th>\n",
       "      <td>GI Group</td>\n",
       "      <td>2d ago</td>\n",
       "      <td>4.0</td>\n",
       "    </tr>\n",
       "    <tr>\n",
       "      <th>9</th>\n",
       "      <td>Steria India Ltd</td>\n",
       "      <td>1mon ago</td>\n",
       "      <td>4.1</td>\n",
       "    </tr>\n",
       "  </tbody>\n",
       "</table>\n",
       "</div>"
      ],
      "text/plain": [
       "                          Company_name posted_days Ratings\n",
       "0       LG Electronics India Pvt. Ltd.      9d ago     4.1\n",
       "1        GENPACT India Private Limited     16d ago     4.0\n",
       "2        GENPACT India Private Limited     16d ago     4.0\n",
       "3  NTT Data Business Solutions Pvt Ltd     17d ago     3.8\n",
       "4        GENPACT India Private Limited     18d ago     4.0\n",
       "5                                Paytm      3d ago     3.7\n",
       "6                             GI Group      2d ago     4.0\n",
       "7                             GI Group      2d ago     4.0\n",
       "8                             GI Group      2d ago     4.0\n",
       "9                     Steria India Ltd    1mon ago     4.1"
      ]
     },
     "execution_count": 156,
     "metadata": {},
     "output_type": "execute_result"
    }
   ],
   "source": [
    "job_data"
   ]
  },
  {
   "cell_type": "code",
   "execution_count": null,
   "id": "b55af1aa",
   "metadata": {},
   "outputs": [],
   "source": []
  }
 ],
 "metadata": {
  "kernelspec": {
   "display_name": "Python 3",
   "language": "python",
   "name": "python3"
  }
 },
 "nbformat": 4,
 "nbformat_minor": 5
}
