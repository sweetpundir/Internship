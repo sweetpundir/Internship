{
 "cells": [
  {
   "cell_type": "markdown",
   "id": "723dc1d5",
   "metadata": {},
   "source": [
    "### E-retail factors for customer activation and retention"
   ]
  },
  {
   "cell_type": "raw",
   "id": "30602b63",
   "metadata": {},
   "source": [
    "E-retail factors for customer activation and retention: A case study from Indian e-commerce customers\n",
    "\n",
    "Customer satisfaction has emerged as one of the most important factors that guarantee the success of online store; it has been posited as a key stimulant of purchase, repurchase intentions and customer loyalty. A comprehensive review of the literature, theories and models have been carried out to propose the models for customer activation and customer retention. Five major factors that contributed to the success of an e-commerce store have been identified as: service quality, system quality, information quality, trust and net benefit. The research furthermore investigated the factors that influence the online customers repeat purchase intention. The combination of both utilitarian value and hedonistic values are needed to affect the repeat purchase intention (loyalty) positively. The data is collected from the Indian online shoppers. Results indicate the e-retail success factors, which are very much critical for customer satisfaction.\n",
    "Be careful: There are two sheets (one is detailed) and second is encoded in the excel file. You may use any of them by extracting in separate excel sheet. The number of column(s) is more than 47. Read the column header carefully.\n",
    "Note : Data Scientists have to apply their analytical skills to give findings and conclusions in detailed data analysis written in jupyter notebook . Only data analysis is required.   \n",
    "Need not to create machine learning models /but still if anybody comes with it that is welcome.\n"
   ]
  },
  {
   "cell_type": "markdown",
   "id": "2c486407",
   "metadata": {},
   "source": [
    "### Importing Dataset"
   ]
  },
  {
   "cell_type": "code",
   "execution_count": 16,
   "id": "700caec0",
   "metadata": {},
   "outputs": [],
   "source": [
    "import pandas as pd\n",
    "import numpy as np\n",
    "\n",
    "import matplotlib.pyplot as plt\n",
    "import seaborn as sns\n",
    "import warnings\n",
    "warnings.filterwarnings('ignore')"
   ]
  },
  {
   "cell_type": "code",
   "execution_count": 3,
   "id": "44c837f7",
   "metadata": {},
   "outputs": [],
   "source": [
    "pd.set_option('max_columns',100)\n",
    "data=pd.read_excel(r'D:\\FLIPROBO\\2022\\JAN\\Customer_retention_dataset_1\\Customer_retention_dataset/customer_retention_dataset.xlsx',)"
   ]
  },
  {
   "cell_type": "code",
   "execution_count": 4,
   "id": "cfe28c82",
   "metadata": {},
   "outputs": [
    {
     "data": {
      "text/html": [
       "<div>\n",
       "<style scoped>\n",
       "    .dataframe tbody tr th:only-of-type {\n",
       "        vertical-align: middle;\n",
       "    }\n",
       "\n",
       "    .dataframe tbody tr th {\n",
       "        vertical-align: top;\n",
       "    }\n",
       "\n",
       "    .dataframe thead th {\n",
       "        text-align: right;\n",
       "    }\n",
       "</style>\n",
       "<table border=\"1\" class=\"dataframe\">\n",
       "  <thead>\n",
       "    <tr style=\"text-align: right;\">\n",
       "      <th></th>\n",
       "      <th>1Gender of respondent</th>\n",
       "      <th>2 How old are you?</th>\n",
       "      <th>3 Which city do you shop online from?</th>\n",
       "      <th>4 What is the Pin Code of where you shop online from?</th>\n",
       "      <th>5 Since How Long You are Shopping Online ?</th>\n",
       "      <th>6 How many times you have made an online purchase in the past 1 year?</th>\n",
       "      <th>7 How do you access the internet while shopping on-line?</th>\n",
       "      <th>8 Which device do you use to access the online shopping?</th>\n",
       "      <th>9 What is the screen size of your mobile device?\\t\\t\\t\\t\\t\\t</th>\n",
       "      <th>10 What is the operating system (OS) of your device?\\t\\t\\t\\t</th>\n",
       "      <th>11 What browser do you run on your device to access the website?\\t\\t\\t</th>\n",
       "      <th>12 Which channel did you follow to arrive at your favorite online store for the first time?</th>\n",
       "      <th>13 After first visit, how do you reach the online retail store?\\t\\t\\t\\t</th>\n",
       "      <th>14 How much time do you explore the e- retail store before making a purchase decision?</th>\n",
       "      <th>15 What is your preferred payment Option?\\t\\t\\t\\t\\t</th>\n",
       "      <th>16 How frequently do you abandon (selecting an items and leaving without making payment) your shopping cart?\\t\\t\\t\\t\\t\\t\\t</th>\n",
       "      <th>17 Why did you abandon the “Bag”, “Shopping Cart”?\\t\\t\\t\\t\\t</th>\n",
       "      <th>18 The content on the website must be easy to read and understand</th>\n",
       "      <th>19 Information on similar product to the one highlighted  is important for product comparison</th>\n",
       "      <th>20 Complete information on listed seller and product being offered is important for purchase decision.</th>\n",
       "      <th>21 All relevant information on listed products must be stated clearly</th>\n",
       "      <th>22 Ease of navigation in website</th>\n",
       "      <th>23 Loading and processing speed</th>\n",
       "      <th>24 User friendly Interface of the website</th>\n",
       "      <th>25 Convenient Payment methods</th>\n",
       "      <th>26 Trust that the online retail store will fulfill its part of the transaction at the stipulated time</th>\n",
       "      <th>27 Empathy (readiness to assist with queries) towards the customers</th>\n",
       "      <th>28 Being able to guarantee the privacy of the customer</th>\n",
       "      <th>29 Responsiveness, availability of several communication channels (email, online rep, twitter, phone etc.)</th>\n",
       "      <th>30 Online shopping gives monetary benefit and discounts</th>\n",
       "      <th>31 Enjoyment is derived from shopping online</th>\n",
       "      <th>32 Shopping online is convenient and flexible</th>\n",
       "      <th>33 Return and replacement policy of the e-tailer is important for purchase decision</th>\n",
       "      <th>34 Gaining access to loyalty programs is a benefit of shopping online</th>\n",
       "      <th>35 Displaying quality Information on the website improves satisfaction of customers</th>\n",
       "      <th>36 User derive satisfaction while shopping on a good quality website or application</th>\n",
       "      <th>37 Net Benefit derived from shopping online can lead to users satisfaction</th>\n",
       "      <th>38 User satisfaction cannot exist without trust</th>\n",
       "      <th>39 Offering a wide variety of listed product in several category</th>\n",
       "      <th>40 Provision of complete and relevant product information</th>\n",
       "      <th>41 Monetary savings</th>\n",
       "      <th>42 The Convenience of patronizing the online retailer</th>\n",
       "      <th>43 Shopping on the website gives you the sense of adventure</th>\n",
       "      <th>44 Shopping on your preferred e-tailer enhances your social status</th>\n",
       "      <th>45 You feel gratification shopping on your favorite e-tailer</th>\n",
       "      <th>46 Shopping on the website helps you fulfill certain roles</th>\n",
       "      <th>47 Getting value for money spent</th>\n",
       "      <th>From the following, tick any (or all) of the online retailers you have shopped from;</th>\n",
       "      <th>Easy to use website or application</th>\n",
       "      <th>Visual appealing web-page layout</th>\n",
       "      <th>Wild variety of product on offer</th>\n",
       "      <th>Complete, relevant description information of products</th>\n",
       "      <th>Fast loading website speed of website and application</th>\n",
       "      <th>Reliability of the website or application</th>\n",
       "      <th>Quickness to complete purchase</th>\n",
       "      <th>Availability of several payment options</th>\n",
       "      <th>Speedy order delivery</th>\n",
       "      <th>Privacy of customers’ information</th>\n",
       "      <th>Security of customer financial information</th>\n",
       "      <th>Perceived Trustworthiness</th>\n",
       "      <th>Presence of online assistance through multi-channel</th>\n",
       "      <th>Longer time to get logged in (promotion, sales period)</th>\n",
       "      <th>Longer time in displaying graphics and photos (promotion, sales period)</th>\n",
       "      <th>Late declaration of price (promotion, sales period)</th>\n",
       "      <th>Longer page loading time (promotion, sales period)</th>\n",
       "      <th>Limited mode of payment on most products (promotion, sales period)</th>\n",
       "      <th>Longer delivery period</th>\n",
       "      <th>Change in website/Application design</th>\n",
       "      <th>Frequent disruption when moving from one page to another</th>\n",
       "      <th>Website is as efficient as before</th>\n",
       "      <th>Which of the Indian online retailer would you recommend to a friend?</th>\n",
       "    </tr>\n",
       "  </thead>\n",
       "  <tbody>\n",
       "    <tr>\n",
       "      <th>0</th>\n",
       "      <td>Male</td>\n",
       "      <td>31-40 years</td>\n",
       "      <td>Delhi</td>\n",
       "      <td>110009</td>\n",
       "      <td>Above 4 years</td>\n",
       "      <td>31-40 times</td>\n",
       "      <td>Dial-up</td>\n",
       "      <td>Desktop</td>\n",
       "      <td>Others</td>\n",
       "      <td>Window/windows Mobile</td>\n",
       "      <td>Google chrome</td>\n",
       "      <td>Search Engine</td>\n",
       "      <td>Search Engine</td>\n",
       "      <td>6-10 mins</td>\n",
       "      <td>E-wallets (Paytm, Freecharge etc.)</td>\n",
       "      <td>Sometimes</td>\n",
       "      <td>Lack of trust</td>\n",
       "      <td>Agree (4)</td>\n",
       "      <td>Indifferent (3)</td>\n",
       "      <td>Indifferent (3)</td>\n",
       "      <td>Agree (4)</td>\n",
       "      <td>Agree (4)</td>\n",
       "      <td>Strongly disagree (1)</td>\n",
       "      <td>Dis-agree (2)</td>\n",
       "      <td>Dis-agree (2)</td>\n",
       "      <td>Disagree (2)</td>\n",
       "      <td>Strongly agree (5)</td>\n",
       "      <td>Agree (4)</td>\n",
       "      <td>Agree (4)</td>\n",
       "      <td>indifferent (3)</td>\n",
       "      <td>Strongly disagree (1)</td>\n",
       "      <td>Dis-agree (2)</td>\n",
       "      <td>Dis-agree (2)</td>\n",
       "      <td>Agree (4)</td>\n",
       "      <td>indifferent (3)</td>\n",
       "      <td>Strongly agree (5)</td>\n",
       "      <td>Agree (4)</td>\n",
       "      <td>Strongly agree (5)</td>\n",
       "      <td>indifferent (3)</td>\n",
       "      <td>indifferent (3)</td>\n",
       "      <td>Disagree (2)</td>\n",
       "      <td>indifferent (3)</td>\n",
       "      <td>Agree (4)</td>\n",
       "      <td>Agree (4)</td>\n",
       "      <td>Strongly agree (5)</td>\n",
       "      <td>Agree (4)</td>\n",
       "      <td>Strongly agree (5)</td>\n",
       "      <td>Amazon.in, Paytm.com</td>\n",
       "      <td>Paytm.com</td>\n",
       "      <td>Flipkart.com</td>\n",
       "      <td>Flipkart.com</td>\n",
       "      <td>Snapdeal.com</td>\n",
       "      <td>Snapdeal.com</td>\n",
       "      <td>Paytm.com</td>\n",
       "      <td>Paytm.com</td>\n",
       "      <td>Patym.com</td>\n",
       "      <td>Amazon.in</td>\n",
       "      <td>Amazon.in</td>\n",
       "      <td>Amazon.in</td>\n",
       "      <td>Flipkart.com</td>\n",
       "      <td>Paytm.com</td>\n",
       "      <td>Amazon.in</td>\n",
       "      <td>Amazon.in</td>\n",
       "      <td>Flipkart.com</td>\n",
       "      <td>Flipkart.com</td>\n",
       "      <td>Amazon.in</td>\n",
       "      <td>Paytm.com</td>\n",
       "      <td>Flipkart.com</td>\n",
       "      <td>Amazon.in</td>\n",
       "      <td>Amazon.in</td>\n",
       "      <td>Flipkart.com</td>\n",
       "    </tr>\n",
       "    <tr>\n",
       "      <th>1</th>\n",
       "      <td>Female</td>\n",
       "      <td>21-30 years</td>\n",
       "      <td>Delhi</td>\n",
       "      <td>110030</td>\n",
       "      <td>Above 4 years</td>\n",
       "      <td>41 times and above</td>\n",
       "      <td>Wi-Fi</td>\n",
       "      <td>Smartphone</td>\n",
       "      <td>4.7 inches</td>\n",
       "      <td>IOS/Mac</td>\n",
       "      <td>Google chrome</td>\n",
       "      <td>Search Engine</td>\n",
       "      <td>Via application</td>\n",
       "      <td>more than 15 mins</td>\n",
       "      <td>Credit/Debit cards</td>\n",
       "      <td>Very frequently</td>\n",
       "      <td>Promo code not applicable</td>\n",
       "      <td>Strongly agree (5)</td>\n",
       "      <td>Strongly agree (5)</td>\n",
       "      <td>Strongly agree (5)</td>\n",
       "      <td>Strongly agree (5)</td>\n",
       "      <td>Strongly agree (5)</td>\n",
       "      <td>Strongly agree (5)</td>\n",
       "      <td>Strongly agree (5)</td>\n",
       "      <td>Strongly agree (5)</td>\n",
       "      <td>Strongly agree (5)</td>\n",
       "      <td>Strongly agree (5)</td>\n",
       "      <td>Strongly agree (5)</td>\n",
       "      <td>Strongly agree (5)</td>\n",
       "      <td>Strongly agree (5)</td>\n",
       "      <td>Strongly agree (5)</td>\n",
       "      <td>Strongly agree (5)</td>\n",
       "      <td>Strongly agree (5)</td>\n",
       "      <td>Strongly agree (5)</td>\n",
       "      <td>Strongly agree (5)</td>\n",
       "      <td>Strongly agree (5)</td>\n",
       "      <td>Strongly agree (5)</td>\n",
       "      <td>Strongly agree (5)</td>\n",
       "      <td>Strongly agree (5)</td>\n",
       "      <td>Strongly agree (5)</td>\n",
       "      <td>Strongly agree (5)</td>\n",
       "      <td>indifferent (3)</td>\n",
       "      <td>indifferent (3)</td>\n",
       "      <td>indifferent (3)</td>\n",
       "      <td>Strongly agree (5)</td>\n",
       "      <td>Strongly agree (5)</td>\n",
       "      <td>Strongly agree (5)</td>\n",
       "      <td>Amazon.in, Flipkart.com, Myntra.com, Snapdeal.com</td>\n",
       "      <td>Amazon.in, Flipkart.com, Myntra.com, Snapdeal.com</td>\n",
       "      <td>Amazon.in, Myntra.com</td>\n",
       "      <td>Flipkart.com, Myntra.com</td>\n",
       "      <td>Amazon.in, Flipkart.com, Myntra.com</td>\n",
       "      <td>Amazon.in, Flipkart.com, Myntra.com</td>\n",
       "      <td>Myntra.com</td>\n",
       "      <td>Amazon.com, Flipkart.com, Myntra.com</td>\n",
       "      <td>Amazon.in, Flipkart.com, Myntra.com</td>\n",
       "      <td>Amazon.in, Flipkart.com</td>\n",
       "      <td>Myntra.com</td>\n",
       "      <td>Myntra.com</td>\n",
       "      <td>Myntra.com</td>\n",
       "      <td>Amazon.in, Flipkart.com, Myntra.com</td>\n",
       "      <td>Amazon.in, Flipkart.com</td>\n",
       "      <td>Myntra.com</td>\n",
       "      <td>snapdeal.com</td>\n",
       "      <td>Snapdeal.com</td>\n",
       "      <td>Snapdeal.com</td>\n",
       "      <td>Snapdeal.com</td>\n",
       "      <td>Amazon.in</td>\n",
       "      <td>Myntra.com</td>\n",
       "      <td>Amazon.in, Flipkart.com</td>\n",
       "      <td>Amazon.in, Myntra.com</td>\n",
       "    </tr>\n",
       "    <tr>\n",
       "      <th>2</th>\n",
       "      <td>Female</td>\n",
       "      <td>21-30 years</td>\n",
       "      <td>Greater Noida</td>\n",
       "      <td>201308</td>\n",
       "      <td>3-4 years</td>\n",
       "      <td>41 times and above</td>\n",
       "      <td>Mobile Internet</td>\n",
       "      <td>Smartphone</td>\n",
       "      <td>5.5 inches</td>\n",
       "      <td>Android</td>\n",
       "      <td>Google chrome</td>\n",
       "      <td>Search Engine</td>\n",
       "      <td>Via application</td>\n",
       "      <td>11-15 mins</td>\n",
       "      <td>E-wallets (Paytm, Freecharge etc.)</td>\n",
       "      <td>Sometimes</td>\n",
       "      <td>Promo code not applicable</td>\n",
       "      <td>Strongly agree (5)</td>\n",
       "      <td>Agree (4)</td>\n",
       "      <td>Agree (4)</td>\n",
       "      <td>Agree (4)</td>\n",
       "      <td>Agree (4)</td>\n",
       "      <td>Agree (4)</td>\n",
       "      <td>Strongly agree (5)</td>\n",
       "      <td>Strongly agree (5)</td>\n",
       "      <td>Strongly agree (5)</td>\n",
       "      <td>Strongly agree (5)</td>\n",
       "      <td>Strongly agree (5)</td>\n",
       "      <td>Strongly agree (5)</td>\n",
       "      <td>Strongly agree (5)</td>\n",
       "      <td>Strongly agree (5)</td>\n",
       "      <td>Strongly agree (5)</td>\n",
       "      <td>Strongly agree (5)</td>\n",
       "      <td>Strongly agree (5)</td>\n",
       "      <td>Strongly agree (5)</td>\n",
       "      <td>Strongly agree (5)</td>\n",
       "      <td>Strongly agree (5)</td>\n",
       "      <td>Agree (4)</td>\n",
       "      <td>Strongly agree (5)</td>\n",
       "      <td>Strongly agree (5)</td>\n",
       "      <td>Strongly agree (5)</td>\n",
       "      <td>Agree (4)</td>\n",
       "      <td>Agree (4)</td>\n",
       "      <td>Agree (4)</td>\n",
       "      <td>indifferent (3)</td>\n",
       "      <td>indifferent (3)</td>\n",
       "      <td>Agree (4)</td>\n",
       "      <td>Amazon.in, Paytm.com, Myntra.com</td>\n",
       "      <td>Amazon.in, Paytm.com, Myntra.com</td>\n",
       "      <td>Amazon.in, Paytm.com, Myntra.com</td>\n",
       "      <td>Amazon.in, Myntra.com</td>\n",
       "      <td>Amazon.in, Paytm.com, Myntra.com</td>\n",
       "      <td>Amazon.in, Paytm.com</td>\n",
       "      <td>Amazon.in, Paytm.com, Myntra.com</td>\n",
       "      <td>Amazon.com, Paytm.com, Myntra.com</td>\n",
       "      <td>Patym.com, Myntra.com</td>\n",
       "      <td>Amazon.in</td>\n",
       "      <td>Amazon.in</td>\n",
       "      <td>Amazon.in, Paytm.com, Myntra.com</td>\n",
       "      <td>Amazon.in, Myntra.com</td>\n",
       "      <td>Myntra.com</td>\n",
       "      <td>Myntra.com</td>\n",
       "      <td>Myntra.com</td>\n",
       "      <td>Myntra.com</td>\n",
       "      <td>Myntra.com</td>\n",
       "      <td>Amazon.in</td>\n",
       "      <td>Paytm.com</td>\n",
       "      <td>Paytm.com</td>\n",
       "      <td>Paytm.com</td>\n",
       "      <td>Amazon.in</td>\n",
       "      <td>Amazon.in, Paytm.com, Myntra.com</td>\n",
       "    </tr>\n",
       "    <tr>\n",
       "      <th>3</th>\n",
       "      <td>Male</td>\n",
       "      <td>21-30 years</td>\n",
       "      <td>Karnal</td>\n",
       "      <td>132001</td>\n",
       "      <td>3-4 years</td>\n",
       "      <td>Less than 10 times</td>\n",
       "      <td>Mobile Internet</td>\n",
       "      <td>Smartphone</td>\n",
       "      <td>5.5 inches</td>\n",
       "      <td>IOS/Mac</td>\n",
       "      <td>Safari</td>\n",
       "      <td>Search Engine</td>\n",
       "      <td>Search Engine</td>\n",
       "      <td>6-10 mins</td>\n",
       "      <td>Credit/Debit cards</td>\n",
       "      <td>Never</td>\n",
       "      <td>Better alternative offer</td>\n",
       "      <td>Agree (4)</td>\n",
       "      <td>Agree (4)</td>\n",
       "      <td>Indifferent (3)</td>\n",
       "      <td>Agree (4)</td>\n",
       "      <td>Strongly agree (5)</td>\n",
       "      <td>Agree (4)</td>\n",
       "      <td>Strongly agree (5)</td>\n",
       "      <td>Strongly agree (5)</td>\n",
       "      <td>Agree (4)</td>\n",
       "      <td>Strongly agree (5)</td>\n",
       "      <td>Strongly agree (5)</td>\n",
       "      <td>Agree (4)</td>\n",
       "      <td>Agree (4)</td>\n",
       "      <td>indifferent (3)</td>\n",
       "      <td>indifferent (3)</td>\n",
       "      <td>Agree (4)</td>\n",
       "      <td>indifferent (3)</td>\n",
       "      <td>indifferent (3)</td>\n",
       "      <td>Agree (4)</td>\n",
       "      <td>indifferent (3)</td>\n",
       "      <td>Agree (4)</td>\n",
       "      <td>Agree (4)</td>\n",
       "      <td>Agree (4)</td>\n",
       "      <td>Strongly agree (5)</td>\n",
       "      <td>Agree (4)</td>\n",
       "      <td>Agree (4)</td>\n",
       "      <td>Strongly agree (5)</td>\n",
       "      <td>Agree (4)</td>\n",
       "      <td>indifferent (3)</td>\n",
       "      <td>Agree (4)</td>\n",
       "      <td>Amazon.in, Flipkart.com, Paytm.com, Myntra.com...</td>\n",
       "      <td>Amazon.in, Flipkart.com, Paytm.com, Myntra.com...</td>\n",
       "      <td>Amazon.in, Flipkart.com, Paytm.com, Myntra.com...</td>\n",
       "      <td>Amazon.in, Flipkart.com</td>\n",
       "      <td>Amazon.in, Flipkart.com</td>\n",
       "      <td>Amazon.in, Flipkart.com, Snapdeal.com</td>\n",
       "      <td>Amazon.in, Flipkart.com, Paytm.com</td>\n",
       "      <td>Amazon.com, Flipkart.com, Paytm.com</td>\n",
       "      <td>Amazon.in, Flipkart.com, Myntra.com</td>\n",
       "      <td>Amazon.in, Flipkart.com, Snapdeal.com</td>\n",
       "      <td>Amazon.in, Flipkart.com, Myntra.com</td>\n",
       "      <td>Amazon.in, Flipkart.com, Snapdeal.com</td>\n",
       "      <td>Amazon.in, Flipkart.com, Snapdeal.com</td>\n",
       "      <td>Amazon.in, Flipkart.com, Myntra.com, Snapdeal</td>\n",
       "      <td>Snapdeal.com</td>\n",
       "      <td>Myntra.com, Snapdeal.com</td>\n",
       "      <td>Myntra.com</td>\n",
       "      <td>Paytm.com</td>\n",
       "      <td>Paytm.com</td>\n",
       "      <td>Paytm.com</td>\n",
       "      <td>Amazon.in, Flipkart.com</td>\n",
       "      <td>Amazon.in, Flipkart.com</td>\n",
       "      <td>Amazon.in, Flipkart.com, Paytm.com</td>\n",
       "      <td>Amazon.in, Flipkart.com</td>\n",
       "    </tr>\n",
       "    <tr>\n",
       "      <th>4</th>\n",
       "      <td>Female</td>\n",
       "      <td>21-30 years</td>\n",
       "      <td>Bangalore</td>\n",
       "      <td>530068</td>\n",
       "      <td>2-3 years</td>\n",
       "      <td>11-20 times</td>\n",
       "      <td>Wi-Fi</td>\n",
       "      <td>Smartphone</td>\n",
       "      <td>4.7 inches</td>\n",
       "      <td>IOS/Mac</td>\n",
       "      <td>Safari</td>\n",
       "      <td>Content Marketing</td>\n",
       "      <td>Via application</td>\n",
       "      <td>more than 15 mins</td>\n",
       "      <td>Credit/Debit cards</td>\n",
       "      <td>Frequently</td>\n",
       "      <td>Better alternative offer</td>\n",
       "      <td>Strongly agree (5)</td>\n",
       "      <td>Indifferent (3)</td>\n",
       "      <td>Indifferent (3)</td>\n",
       "      <td>Agree (4)</td>\n",
       "      <td>Agree (4)</td>\n",
       "      <td>Strongly agree (5)</td>\n",
       "      <td>Strongly agree (5)</td>\n",
       "      <td>Strongly agree (5)</td>\n",
       "      <td>Agree (4)</td>\n",
       "      <td>Strongly agree (5)</td>\n",
       "      <td>Agree (4)</td>\n",
       "      <td>Strongly agree (5)</td>\n",
       "      <td>Strongly agree (5)</td>\n",
       "      <td>Strongly agree (5)</td>\n",
       "      <td>Strongly agree (5)</td>\n",
       "      <td>Strongly agree (5)</td>\n",
       "      <td>Dis-agree (2)</td>\n",
       "      <td>Agree (4)</td>\n",
       "      <td>Strongly agree (5)</td>\n",
       "      <td>Strongly agree (5)</td>\n",
       "      <td>Strongly agree (5)</td>\n",
       "      <td>Agree (4)</td>\n",
       "      <td>Agree (4)</td>\n",
       "      <td>Strongly agree (5)</td>\n",
       "      <td>Agree (4)</td>\n",
       "      <td>indifferent (3)</td>\n",
       "      <td>Strongly disagree (1)</td>\n",
       "      <td>Strongly agree (5)</td>\n",
       "      <td>Strongly disagree (1)</td>\n",
       "      <td>Strongly agree (5)</td>\n",
       "      <td>Amazon.in, Flipkart.com, Paytm.com, Myntra.com...</td>\n",
       "      <td>Amazon.in, Flipkart.com, Paytm.com, Myntra.com...</td>\n",
       "      <td>Myntra.com</td>\n",
       "      <td>Myntra.com</td>\n",
       "      <td>Amazon.in, Flipkart.com, Paytm.com, Myntra.com...</td>\n",
       "      <td>Amazon.in</td>\n",
       "      <td>Amazon.in, Paytm.com, Myntra.com</td>\n",
       "      <td>Amazon.com, Flipkart.com, Paytm.com, Myntra.co...</td>\n",
       "      <td>Amazon.in, Flipkart.com, Patym.com, Myntra.com...</td>\n",
       "      <td>Amazon.in</td>\n",
       "      <td>Amazon.in, Paytm.com</td>\n",
       "      <td>Paytm.com</td>\n",
       "      <td>Amazon.in, Myntra.com</td>\n",
       "      <td>Amazon.in, Myntra.com</td>\n",
       "      <td>Flipkart.com, Paytm.com</td>\n",
       "      <td>Paytm.com</td>\n",
       "      <td>Paytm.com</td>\n",
       "      <td>Paytm.com</td>\n",
       "      <td>Snapdeal.com</td>\n",
       "      <td>Paytm.com</td>\n",
       "      <td>Amazon.in</td>\n",
       "      <td>Snapdeal.com</td>\n",
       "      <td>Paytm.com</td>\n",
       "      <td>Amazon.in, Myntra.com</td>\n",
       "    </tr>\n",
       "  </tbody>\n",
       "</table>\n",
       "</div>"
      ],
      "text/plain": [
       "  1Gender of respondent 2 How old are you?   \\\n",
       "0                  Male         31-40 years   \n",
       "1                Female         21-30 years   \n",
       "2                Female         21-30 years   \n",
       "3                  Male         21-30 years   \n",
       "4                Female         21-30 years   \n",
       "\n",
       "  3 Which city do you shop online from?  \\\n",
       "0                                 Delhi   \n",
       "1                                 Delhi   \n",
       "2                         Greater Noida   \n",
       "3                               Karnal    \n",
       "4                            Bangalore    \n",
       "\n",
       "   4 What is the Pin Code of where you shop online from?  \\\n",
       "0                                             110009       \n",
       "1                                             110030       \n",
       "2                                             201308       \n",
       "3                                             132001       \n",
       "4                                             530068       \n",
       "\n",
       "  5 Since How Long You are Shopping Online ?  \\\n",
       "0                              Above 4 years   \n",
       "1                              Above 4 years   \n",
       "2                                  3-4 years   \n",
       "3                                  3-4 years   \n",
       "4                                  2-3 years   \n",
       "\n",
       "  6 How many times you have made an online purchase in the past 1 year?  \\\n",
       "0                                        31-40 times                      \n",
       "1                                 41 times and above                      \n",
       "2                                 41 times and above                      \n",
       "3                                 Less than 10 times                      \n",
       "4                                        11-20 times                      \n",
       "\n",
       "  7 How do you access the internet while shopping on-line?  \\\n",
       "0                                            Dial-up         \n",
       "1                                              Wi-Fi         \n",
       "2                                    Mobile Internet         \n",
       "3                                    Mobile Internet         \n",
       "4                                              Wi-Fi         \n",
       "\n",
       "  8 Which device do you use to access the online shopping?  \\\n",
       "0                                            Desktop         \n",
       "1                                         Smartphone         \n",
       "2                                         Smartphone         \n",
       "3                                         Smartphone         \n",
       "4                                         Smartphone         \n",
       "\n",
       "  9 What is the screen size of your mobile device?\\t\\t\\t\\t\\t\\t                                          \\\n",
       "0                                             Others                                                     \n",
       "1                                         4.7 inches                                                     \n",
       "2                                         5.5 inches                                                     \n",
       "3                                         5.5 inches                                                     \n",
       "4                                         4.7 inches                                                     \n",
       "\n",
       "  10 What is the operating system (OS) of your device?\\t\\t\\t\\t                                            \\\n",
       "0                              Window/windows Mobile                                                       \n",
       "1                                            IOS/Mac                                                       \n",
       "2                                            Android                                                       \n",
       "3                                            IOS/Mac                                                       \n",
       "4                                            IOS/Mac                                                       \n",
       "\n",
       "  11 What browser do you run on your device to access the website?\\t\\t\\t                                                            \\\n",
       "0                                      Google chrome                                                                                 \n",
       "1                                      Google chrome                                                                                 \n",
       "2                                      Google chrome                                                                                 \n",
       "3                                             Safari                                                                                 \n",
       "4                                             Safari                                                                                 \n",
       "\n",
       "  12 Which channel did you follow to arrive at your favorite online store for the first time?                                                                     \\\n",
       "0                                      Search Engine                                                                                                               \n",
       "1                                      Search Engine                                                                                                               \n",
       "2                                      Search Engine                                                                                                               \n",
       "3                                      Search Engine                                                                                                               \n",
       "4                                  Content Marketing                                                                                                               \n",
       "\n",
       "  13 After first visit, how do you reach the online retail store?\\t\\t\\t\\t                                                     \\\n",
       "0                                      Search Engine                                                                           \n",
       "1                                    Via application                                                                           \n",
       "2                                    Via application                                                                           \n",
       "3                                      Search Engine                                                                           \n",
       "4                                    Via application                                                                           \n",
       "\n",
       "  14 How much time do you explore the e- retail store before making a purchase decision?                                                                     \\\n",
       "0                                          6-10 mins                                                                                                          \n",
       "1                                  more than 15 mins                                                                                                          \n",
       "2                                         11-15 mins                                                                                                          \n",
       "3                                          6-10 mins                                                                                                          \n",
       "4                                  more than 15 mins                                                                                                          \n",
       "\n",
       "  15 What is your preferred payment Option?\\t\\t\\t\\t\\t                                                                                                                                 \\\n",
       "0                 E-wallets (Paytm, Freecharge etc.)                                                                                                                                   \n",
       "1                                 Credit/Debit cards                                                                                                                                   \n",
       "2                 E-wallets (Paytm, Freecharge etc.)                                                                                                                                   \n",
       "3                                 Credit/Debit cards                                                                                                                                   \n",
       "4                                 Credit/Debit cards                                                                                                                                   \n",
       "\n",
       "  16 How frequently do you abandon (selecting an items and leaving without making payment) your shopping cart?\\t\\t\\t\\t\\t\\t\\t                                                     \\\n",
       "0                                          Sometimes                                                                                                                              \n",
       "1                                    Very frequently                                                                                                                              \n",
       "2                                          Sometimes                                                                                                                              \n",
       "3                                              Never                                                                                                                              \n",
       "4                                         Frequently                                                                                                                              \n",
       "\n",
       "  17 Why did you abandon the “Bag”, “Shopping Cart”?\\t\\t\\t\\t\\t                                                                                                                                                         \\\n",
       "0                                      Lack of trust                                                                                                                                                                    \n",
       "1                          Promo code not applicable                                                                                                                                                                    \n",
       "2                          Promo code not applicable                                                                                                                                                                    \n",
       "3                           Better alternative offer                                                                                                                                                                    \n",
       "4                           Better alternative offer                                                                                                                                                                    \n",
       "\n",
       "  18 The content on the website must be easy to read and understand  \\\n",
       "0                                          Agree (4)                  \n",
       "1                                 Strongly agree (5)                  \n",
       "2                                 Strongly agree (5)                  \n",
       "3                                          Agree (4)                  \n",
       "4                                 Strongly agree (5)                  \n",
       "\n",
       "  19 Information on similar product to the one highlighted  is important for product comparison  \\\n",
       "0                                    Indifferent (3)                                              \n",
       "1                                 Strongly agree (5)                                              \n",
       "2                                          Agree (4)                                              \n",
       "3                                          Agree (4)                                              \n",
       "4                                    Indifferent (3)                                              \n",
       "\n",
       "  20 Complete information on listed seller and product being offered is important for purchase decision.  \\\n",
       "0                                    Indifferent (3)                                                       \n",
       "1                                 Strongly agree (5)                                                       \n",
       "2                                          Agree (4)                                                       \n",
       "3                                    Indifferent (3)                                                       \n",
       "4                                    Indifferent (3)                                                       \n",
       "\n",
       "  21 All relevant information on listed products must be stated clearly  \\\n",
       "0                                          Agree (4)                      \n",
       "1                                 Strongly agree (5)                      \n",
       "2                                          Agree (4)                      \n",
       "3                                          Agree (4)                      \n",
       "4                                          Agree (4)                      \n",
       "\n",
       "  22 Ease of navigation in website 23 Loading and processing speed  \\\n",
       "0                        Agree (4)           Strongly disagree (1)   \n",
       "1               Strongly agree (5)              Strongly agree (5)   \n",
       "2                        Agree (4)                       Agree (4)   \n",
       "3               Strongly agree (5)                       Agree (4)   \n",
       "4                        Agree (4)              Strongly agree (5)   \n",
       "\n",
       "  24 User friendly Interface of the website 25 Convenient Payment methods  \\\n",
       "0                             Dis-agree (2)                 Dis-agree (2)   \n",
       "1                        Strongly agree (5)            Strongly agree (5)   \n",
       "2                        Strongly agree (5)            Strongly agree (5)   \n",
       "3                        Strongly agree (5)            Strongly agree (5)   \n",
       "4                        Strongly agree (5)            Strongly agree (5)   \n",
       "\n",
       "  26 Trust that the online retail store will fulfill its part of the transaction at the stipulated time  \\\n",
       "0                                       Disagree (2)                                                      \n",
       "1                                 Strongly agree (5)                                                      \n",
       "2                                 Strongly agree (5)                                                      \n",
       "3                                          Agree (4)                                                      \n",
       "4                                          Agree (4)                                                      \n",
       "\n",
       "  27 Empathy (readiness to assist with queries) towards the customers  \\\n",
       "0                                 Strongly agree (5)                    \n",
       "1                                 Strongly agree (5)                    \n",
       "2                                 Strongly agree (5)                    \n",
       "3                                 Strongly agree (5)                    \n",
       "4                                 Strongly agree (5)                    \n",
       "\n",
       "  28 Being able to guarantee the privacy of the customer  \\\n",
       "0                                          Agree (4)       \n",
       "1                                 Strongly agree (5)       \n",
       "2                                 Strongly agree (5)       \n",
       "3                                 Strongly agree (5)       \n",
       "4                                          Agree (4)       \n",
       "\n",
       "  29 Responsiveness, availability of several communication channels (email, online rep, twitter, phone etc.)  \\\n",
       "0                                          Agree (4)                                                           \n",
       "1                                 Strongly agree (5)                                                           \n",
       "2                                 Strongly agree (5)                                                           \n",
       "3                                          Agree (4)                                                           \n",
       "4                                 Strongly agree (5)                                                           \n",
       "\n",
       "  30 Online shopping gives monetary benefit and discounts  \\\n",
       "0                                    indifferent (3)        \n",
       "1                                 Strongly agree (5)        \n",
       "2                                 Strongly agree (5)        \n",
       "3                                          Agree (4)        \n",
       "4                                 Strongly agree (5)        \n",
       "\n",
       "  31 Enjoyment is derived from shopping online  \\\n",
       "0                        Strongly disagree (1)   \n",
       "1                           Strongly agree (5)   \n",
       "2                           Strongly agree (5)   \n",
       "3                              indifferent (3)   \n",
       "4                           Strongly agree (5)   \n",
       "\n",
       "  32 Shopping online is convenient and flexible  \\\n",
       "0                                 Dis-agree (2)   \n",
       "1                            Strongly agree (5)   \n",
       "2                            Strongly agree (5)   \n",
       "3                               indifferent (3)   \n",
       "4                            Strongly agree (5)   \n",
       "\n",
       "  33 Return and replacement policy of the e-tailer is important for purchase decision  \\\n",
       "0                                      Dis-agree (2)                                    \n",
       "1                                 Strongly agree (5)                                    \n",
       "2                                 Strongly agree (5)                                    \n",
       "3                                          Agree (4)                                    \n",
       "4                                 Strongly agree (5)                                    \n",
       "\n",
       "  34 Gaining access to loyalty programs is a benefit of shopping online  \\\n",
       "0                                          Agree (4)                      \n",
       "1                                 Strongly agree (5)                      \n",
       "2                                 Strongly agree (5)                      \n",
       "3                                    indifferent (3)                      \n",
       "4                                      Dis-agree (2)                      \n",
       "\n",
       "  35 Displaying quality Information on the website improves satisfaction of customers  \\\n",
       "0                                    indifferent (3)                                    \n",
       "1                                 Strongly agree (5)                                    \n",
       "2                                 Strongly agree (5)                                    \n",
       "3                                    indifferent (3)                                    \n",
       "4                                          Agree (4)                                    \n",
       "\n",
       "  36 User derive satisfaction while shopping on a good quality website or application  \\\n",
       "0                                 Strongly agree (5)                                    \n",
       "1                                 Strongly agree (5)                                    \n",
       "2                                 Strongly agree (5)                                    \n",
       "3                                          Agree (4)                                    \n",
       "4                                 Strongly agree (5)                                    \n",
       "\n",
       "  37 Net Benefit derived from shopping online can lead to users satisfaction  \\\n",
       "0                                          Agree (4)                           \n",
       "1                                 Strongly agree (5)                           \n",
       "2                                 Strongly agree (5)                           \n",
       "3                                    indifferent (3)                           \n",
       "4                                 Strongly agree (5)                           \n",
       "\n",
       "  38 User satisfaction cannot exist without trust  \\\n",
       "0                              Strongly agree (5)   \n",
       "1                              Strongly agree (5)   \n",
       "2                                       Agree (4)   \n",
       "3                                       Agree (4)   \n",
       "4                              Strongly agree (5)   \n",
       "\n",
       "  39 Offering a wide variety of listed product in several category  \\\n",
       "0                                    indifferent (3)                 \n",
       "1                                 Strongly agree (5)                 \n",
       "2                                 Strongly agree (5)                 \n",
       "3                                          Agree (4)                 \n",
       "4                                          Agree (4)                 \n",
       "\n",
       "  40 Provision of complete and relevant product information  \\\n",
       "0                                    indifferent (3)          \n",
       "1                                 Strongly agree (5)          \n",
       "2                                 Strongly agree (5)          \n",
       "3                                          Agree (4)          \n",
       "4                                          Agree (4)          \n",
       "\n",
       "  41 Monetary savings 42 The Convenience of patronizing the online retailer  \\\n",
       "0        Disagree (2)                                    indifferent (3)      \n",
       "1  Strongly agree (5)                                    indifferent (3)      \n",
       "2  Strongly agree (5)                                          Agree (4)      \n",
       "3  Strongly agree (5)                                          Agree (4)      \n",
       "4  Strongly agree (5)                                          Agree (4)      \n",
       "\n",
       "  43 Shopping on the website gives you the sense of adventure  \\\n",
       "0                                          Agree (4)            \n",
       "1                                    indifferent (3)            \n",
       "2                                          Agree (4)            \n",
       "3                                          Agree (4)            \n",
       "4                                    indifferent (3)            \n",
       "\n",
       "  44 Shopping on your preferred e-tailer enhances your social status  \\\n",
       "0                                          Agree (4)                   \n",
       "1                                    indifferent (3)                   \n",
       "2                                          Agree (4)                   \n",
       "3                                 Strongly agree (5)                   \n",
       "4                              Strongly disagree (1)                   \n",
       "\n",
       "  45 You feel gratification shopping on your favorite e-tailer  \\\n",
       "0                                 Strongly agree (5)             \n",
       "1                                 Strongly agree (5)             \n",
       "2                                    indifferent (3)             \n",
       "3                                          Agree (4)             \n",
       "4                                 Strongly agree (5)             \n",
       "\n",
       "  46 Shopping on the website helps you fulfill certain roles  \\\n",
       "0                                          Agree (4)           \n",
       "1                                 Strongly agree (5)           \n",
       "2                                    indifferent (3)           \n",
       "3                                    indifferent (3)           \n",
       "4                              Strongly disagree (1)           \n",
       "\n",
       "  47 Getting value for money spent  \\\n",
       "0               Strongly agree (5)   \n",
       "1               Strongly agree (5)   \n",
       "2                        Agree (4)   \n",
       "3                        Agree (4)   \n",
       "4               Strongly agree (5)   \n",
       "\n",
       "  From the following, tick any (or all) of the online retailers you have shopped from;                                                                             \\\n",
       "0                               Amazon.in, Paytm.com                                                                                                                \n",
       "1  Amazon.in, Flipkart.com, Myntra.com, Snapdeal.com                                                                                                                \n",
       "2                   Amazon.in, Paytm.com, Myntra.com                                                                                                                \n",
       "3  Amazon.in, Flipkart.com, Paytm.com, Myntra.com...                                                                                                                \n",
       "4  Amazon.in, Flipkart.com, Paytm.com, Myntra.com...                                                                                                                \n",
       "\n",
       "                  Easy to use website or application  \\\n",
       "0                                          Paytm.com   \n",
       "1  Amazon.in, Flipkart.com, Myntra.com, Snapdeal.com   \n",
       "2                   Amazon.in, Paytm.com, Myntra.com   \n",
       "3  Amazon.in, Flipkart.com, Paytm.com, Myntra.com...   \n",
       "4  Amazon.in, Flipkart.com, Paytm.com, Myntra.com...   \n",
       "\n",
       "                    Visual appealing web-page layout  \\\n",
       "0                                       Flipkart.com   \n",
       "1                              Amazon.in, Myntra.com   \n",
       "2                   Amazon.in, Paytm.com, Myntra.com   \n",
       "3  Amazon.in, Flipkart.com, Paytm.com, Myntra.com...   \n",
       "4                                         Myntra.com   \n",
       "\n",
       "  Wild variety of product on offer  \\\n",
       "0                     Flipkart.com   \n",
       "1         Flipkart.com, Myntra.com   \n",
       "2            Amazon.in, Myntra.com   \n",
       "3          Amazon.in, Flipkart.com   \n",
       "4                       Myntra.com   \n",
       "\n",
       "  Complete, relevant description information of products  \\\n",
       "0                                       Snapdeal.com       \n",
       "1                Amazon.in, Flipkart.com, Myntra.com       \n",
       "2                   Amazon.in, Paytm.com, Myntra.com       \n",
       "3                            Amazon.in, Flipkart.com       \n",
       "4  Amazon.in, Flipkart.com, Paytm.com, Myntra.com...       \n",
       "\n",
       "  Fast loading website speed of website and application  \\\n",
       "0                                       Snapdeal.com      \n",
       "1                Amazon.in, Flipkart.com, Myntra.com      \n",
       "2                               Amazon.in, Paytm.com      \n",
       "3              Amazon.in, Flipkart.com, Snapdeal.com      \n",
       "4                                          Amazon.in      \n",
       "\n",
       "  Reliability of the website or application  \\\n",
       "0                                 Paytm.com   \n",
       "1                                Myntra.com   \n",
       "2          Amazon.in, Paytm.com, Myntra.com   \n",
       "3        Amazon.in, Flipkart.com, Paytm.com   \n",
       "4          Amazon.in, Paytm.com, Myntra.com   \n",
       "\n",
       "                      Quickness to complete purchase  \\\n",
       "0                                          Paytm.com   \n",
       "1               Amazon.com, Flipkart.com, Myntra.com   \n",
       "2                  Amazon.com, Paytm.com, Myntra.com   \n",
       "3                Amazon.com, Flipkart.com, Paytm.com   \n",
       "4  Amazon.com, Flipkart.com, Paytm.com, Myntra.co...   \n",
       "\n",
       "             Availability of several payment options  \\\n",
       "0                                          Patym.com   \n",
       "1                Amazon.in, Flipkart.com, Myntra.com   \n",
       "2                              Patym.com, Myntra.com   \n",
       "3                Amazon.in, Flipkart.com, Myntra.com   \n",
       "4  Amazon.in, Flipkart.com, Patym.com, Myntra.com...   \n",
       "\n",
       "                  Speedy order delivery     Privacy of customers’ information  \\\n",
       "0                              Amazon.in                            Amazon.in   \n",
       "1                Amazon.in, Flipkart.com                           Myntra.com   \n",
       "2                              Amazon.in                            Amazon.in   \n",
       "3  Amazon.in, Flipkart.com, Snapdeal.com  Amazon.in, Flipkart.com, Myntra.com   \n",
       "4                              Amazon.in                 Amazon.in, Paytm.com   \n",
       "\n",
       "  Security of customer financial information  \\\n",
       "0                                  Amazon.in   \n",
       "1                                 Myntra.com   \n",
       "2           Amazon.in, Paytm.com, Myntra.com   \n",
       "3      Amazon.in, Flipkart.com, Snapdeal.com   \n",
       "4                                  Paytm.com   \n",
       "\n",
       "               Perceived Trustworthiness  \\\n",
       "0                           Flipkart.com   \n",
       "1                             Myntra.com   \n",
       "2                  Amazon.in, Myntra.com   \n",
       "3  Amazon.in, Flipkart.com, Snapdeal.com   \n",
       "4                  Amazon.in, Myntra.com   \n",
       "\n",
       "  Presence of online assistance through multi-channel  \\\n",
       "0                                          Paytm.com    \n",
       "1                Amazon.in, Flipkart.com, Myntra.com    \n",
       "2                                         Myntra.com    \n",
       "3      Amazon.in, Flipkart.com, Myntra.com, Snapdeal    \n",
       "4                              Amazon.in, Myntra.com    \n",
       "\n",
       "  Longer time to get logged in (promotion, sales period)  \\\n",
       "0                                          Amazon.in       \n",
       "1                            Amazon.in, Flipkart.com       \n",
       "2                                         Myntra.com       \n",
       "3                                       Snapdeal.com       \n",
       "4                            Flipkart.com, Paytm.com       \n",
       "\n",
       "  Longer time in displaying graphics and photos (promotion, sales period)  \\\n",
       "0                                          Amazon.in                        \n",
       "1                                         Myntra.com                        \n",
       "2                                         Myntra.com                        \n",
       "3                           Myntra.com, Snapdeal.com                        \n",
       "4                                          Paytm.com                        \n",
       "\n",
       "  Late declaration of price (promotion, sales period)  \\\n",
       "0                                       Flipkart.com    \n",
       "1                                       snapdeal.com    \n",
       "2                                         Myntra.com    \n",
       "3                                         Myntra.com    \n",
       "4                                          Paytm.com    \n",
       "\n",
       "  Longer page loading time (promotion, sales period)  \\\n",
       "0                                       Flipkart.com   \n",
       "1                                       Snapdeal.com   \n",
       "2                                         Myntra.com   \n",
       "3                                          Paytm.com   \n",
       "4                                          Paytm.com   \n",
       "\n",
       "  Limited mode of payment on most products (promotion, sales period)  \\\n",
       "0                                          Amazon.in                   \n",
       "1                                       Snapdeal.com                   \n",
       "2                                          Amazon.in                   \n",
       "3                                          Paytm.com                   \n",
       "4                                       Snapdeal.com                   \n",
       "\n",
       "  Longer delivery period Change in website/Application design  \\\n",
       "0              Paytm.com                         Flipkart.com   \n",
       "1           Snapdeal.com                            Amazon.in   \n",
       "2              Paytm.com                            Paytm.com   \n",
       "3              Paytm.com              Amazon.in, Flipkart.com   \n",
       "4              Paytm.com                            Amazon.in   \n",
       "\n",
       "  Frequent disruption when moving from one page to another  \\\n",
       "0                                          Amazon.in         \n",
       "1                                         Myntra.com         \n",
       "2                                          Paytm.com         \n",
       "3                            Amazon.in, Flipkart.com         \n",
       "4                                       Snapdeal.com         \n",
       "\n",
       "    Website is as efficient as before  \\\n",
       "0                           Amazon.in   \n",
       "1             Amazon.in, Flipkart.com   \n",
       "2                           Amazon.in   \n",
       "3  Amazon.in, Flipkart.com, Paytm.com   \n",
       "4                           Paytm.com   \n",
       "\n",
       "  Which of the Indian online retailer would you recommend to a friend?  \n",
       "0                                       Flipkart.com                    \n",
       "1                              Amazon.in, Myntra.com                    \n",
       "2                   Amazon.in, Paytm.com, Myntra.com                    \n",
       "3                            Amazon.in, Flipkart.com                    \n",
       "4                              Amazon.in, Myntra.com                    "
      ]
     },
     "execution_count": 4,
     "metadata": {},
     "output_type": "execute_result"
    }
   ],
   "source": [
    "data.head(5)"
   ]
  },
  {
   "cell_type": "code",
   "execution_count": 5,
   "id": "73b3067e",
   "metadata": {},
   "outputs": [
    {
     "data": {
      "text/plain": [
       "(269, 71)"
      ]
     },
     "execution_count": 5,
     "metadata": {},
     "output_type": "execute_result"
    }
   ],
   "source": [
    "data.shape"
   ]
  },
  {
   "cell_type": "code",
   "execution_count": 6,
   "id": "d538f314",
   "metadata": {},
   "outputs": [],
   "source": [
    "data = data.apply(lambda x: x.str.strip() if x.dtype == \"object\" else x)"
   ]
  },
  {
   "cell_type": "code",
   "execution_count": 7,
   "id": "bd0dcf4c",
   "metadata": {},
   "outputs": [],
   "source": [
    "data.rename(columns=lambda x: x.strip(), inplace=True)"
   ]
  },
  {
   "cell_type": "code",
   "execution_count": 8,
   "id": "9f9618f7",
   "metadata": {},
   "outputs": [
    {
     "data": {
      "text/plain": [
       "Index(['1Gender of respondent', '2 How old are you?',\n",
       "       '3 Which city do you shop online from?',\n",
       "       '4 What is the Pin Code of where you shop online from?',\n",
       "       '5 Since How Long You are Shopping Online ?',\n",
       "       '6 How many times you have made an online purchase in the past 1 year?',\n",
       "       '7 How do you access the internet while shopping on-line?',\n",
       "       '8 Which device do you use to access the online shopping?',\n",
       "       '9 What is the screen size of your mobile device?',\n",
       "       '10 What is the operating system (OS) of your device?',\n",
       "       '11 What browser do you run on your device to access the website?',\n",
       "       '12 Which channel did you follow to arrive at your favorite online store for the first time?',\n",
       "       '13 After first visit, how do you reach the online retail store?',\n",
       "       '14 How much time do you explore the e- retail store before making a purchase decision?',\n",
       "       '15 What is your preferred payment Option?',\n",
       "       '16 How frequently do you abandon (selecting an items and leaving without making payment) your shopping cart?',\n",
       "       '17 Why did you abandon the “Bag”, “Shopping Cart”?',\n",
       "       '18 The content on the website must be easy to read and understand',\n",
       "       '19 Information on similar product to the one highlighted  is important for product comparison',\n",
       "       '20 Complete information on listed seller and product being offered is important for purchase decision.',\n",
       "       '21 All relevant information on listed products must be stated clearly',\n",
       "       '22 Ease of navigation in website', '23 Loading and processing speed',\n",
       "       '24 User friendly Interface of the website',\n",
       "       '25 Convenient Payment methods',\n",
       "       '26 Trust that the online retail store will fulfill its part of the transaction at the stipulated time',\n",
       "       '27 Empathy (readiness to assist with queries) towards the customers',\n",
       "       '28 Being able to guarantee the privacy of the customer',\n",
       "       '29 Responsiveness, availability of several communication channels (email, online rep, twitter, phone etc.)',\n",
       "       '30 Online shopping gives monetary benefit and discounts',\n",
       "       '31 Enjoyment is derived from shopping online',\n",
       "       '32 Shopping online is convenient and flexible',\n",
       "       '33 Return and replacement policy of the e-tailer is important for purchase decision',\n",
       "       '34 Gaining access to loyalty programs is a benefit of shopping online',\n",
       "       '35 Displaying quality Information on the website improves satisfaction of customers',\n",
       "       '36 User derive satisfaction while shopping on a good quality website or application',\n",
       "       '37 Net Benefit derived from shopping online can lead to users satisfaction',\n",
       "       '38 User satisfaction cannot exist without trust',\n",
       "       '39 Offering a wide variety of listed product in several category',\n",
       "       '40 Provision of complete and relevant product information',\n",
       "       '41 Monetary savings',\n",
       "       '42 The Convenience of patronizing the online retailer',\n",
       "       '43 Shopping on the website gives you the sense of adventure',\n",
       "       '44 Shopping on your preferred e-tailer enhances your social status',\n",
       "       '45 You feel gratification shopping on your favorite e-tailer',\n",
       "       '46 Shopping on the website helps you fulfill certain roles',\n",
       "       '47 Getting value for money spent',\n",
       "       'From the following, tick any (or all) of the online retailers you have shopped from;',\n",
       "       'Easy to use website or application',\n",
       "       'Visual appealing web-page layout', 'Wild variety of product on offer',\n",
       "       'Complete, relevant description information of products',\n",
       "       'Fast loading website speed of website and application',\n",
       "       'Reliability of the website or application',\n",
       "       'Quickness to complete purchase',\n",
       "       'Availability of several payment options', 'Speedy order delivery',\n",
       "       'Privacy of customers’ information',\n",
       "       'Security of customer financial information',\n",
       "       'Perceived Trustworthiness',\n",
       "       'Presence of online assistance through multi-channel',\n",
       "       'Longer time to get logged in (promotion, sales period)',\n",
       "       'Longer time in displaying graphics and photos (promotion, sales period)',\n",
       "       'Late declaration of price (promotion, sales period)',\n",
       "       'Longer page loading time (promotion, sales period)',\n",
       "       'Limited mode of payment on most products (promotion, sales period)',\n",
       "       'Longer delivery period', 'Change in website/Application design',\n",
       "       'Frequent disruption when moving from one page to another',\n",
       "       'Website is as efficient as before',\n",
       "       'Which of the Indian online retailer would you recommend to a friend?'],\n",
       "      dtype='object')"
      ]
     },
     "execution_count": 8,
     "metadata": {},
     "output_type": "execute_result"
    }
   ],
   "source": [
    "data.columns"
   ]
  },
  {
   "cell_type": "raw",
   "id": "529bff4e",
   "metadata": {},
   "source": [
    "Five major factors that contributed to the success of an e-commerce store have been identified as:\n",
    "1-service quality\n",
    "2-system quality\n",
    "3-information quality\n",
    "4-trust\n",
    "5-net benefit"
   ]
  },
  {
   "cell_type": "markdown",
   "id": "51e37cca",
   "metadata": {},
   "source": [
    "### service quality"
   ]
  },
  {
   "cell_type": "raw",
   "id": "a7c70fe4",
   "metadata": {},
   "source": [
    "Customer satisfaction and repurchase intentions can be increased by offering superior service quality.\n",
    "when a customer satisfied with the products or service they purchased.\n",
    "they will definately come back again on same place to re-buy products.\n",
    "\n",
    "Its very important aspect in case some company want a customer to keep activate.\n",
    "\n",
    "Here i have filtered few important service quality factors in which we have to keep our focus.\n",
    "\n",
    "\n",
    "\n",
    "Which channel did you follow to arrive at your favorite online store for the first time\n",
    "Responsiveness, availability of several communication channels (email, online rep, twitter, phone etc.)\n"
   ]
  },
  {
   "cell_type": "markdown",
   "id": "c56cbc92",
   "metadata": {},
   "source": [
    "### Detail Analysis of selection service quality components:"
   ]
  },
  {
   "cell_type": "markdown",
   "id": "1cf8a0d2",
   "metadata": {},
   "source": [
    "Which channel did you follow to arrive at your favorite online store for the first time."
   ]
  },
  {
   "cell_type": "code",
   "execution_count": 28,
   "id": "b712d2ca",
   "metadata": {},
   "outputs": [
    {
     "data": {
      "image/png": "[encoded data removed]",
      "text/plain": [
       "<Figure size 432x288 with 1 Axes>"
      ]
     },
     "metadata": {},
     "output_type": "display_data"
    }
   ],
   "source": [
    "first_time=data['12 Which channel did you follow to arrive at your favorite online store for the first time?']\n",
    "plt.pie(first_time.value_counts(),labels=first_time.unique(),autopct='%1.1f%%')\n",
    "plt.show()"
   ]
  },
  {
   "cell_type": "markdown",
   "id": "cfbba962",
   "metadata": {},
   "source": [
    "Analysis: Its a very important aspect in this data set that how did that consumer come to know about that shopping site first time. as it shown in above chart 85.5% people come to know about their favourite online store using search engine first time.\n",
    "\n",
    "so online stores marketing team should more focused on search engine as maximum consumers found their favourite store from search only."
   ]
  },
  {
   "cell_type": "code",
   "execution_count": 33,
   "id": "23102503",
   "metadata": {},
   "outputs": [
    {
     "data": {
      "image/png": "[encoded data removed]",
      "text/plain": [
       "<Figure size 432x288 with 1 Axes>"
      ]
     },
     "metadata": {},
     "output_type": "display_data"
    }
   ],
   "source": [
    "responsivness=data['29 Responsiveness, availability of several communication channels (email, online rep, twitter, phone etc.)']\n",
    "plt.pie(responsivness.value_counts(),labels=responsivness.unique(),autopct='%1.1f%%')\n",
    "plt.show()"
   ]
  },
  {
   "cell_type": "markdown",
   "id": "92275806",
   "metadata": {},
   "source": [
    "Analysis:In online store customers have no physical interaction with seller, so its very important aspect of success of any online store\n",
    "   that is responsiveness and availability on all communication chennals, if a customer seek any help related to anything seller has to respond quickly and moreover it should be sataisfactory.\n",
    "    on this point more then 90% consumers are agreed/strongly agreed."
   ]
  },
  {
   "cell_type": "markdown",
   "id": "c4bc1a6a",
   "metadata": {},
   "source": [
    "### system quality"
   ]
  },
  {
   "cell_type": "raw",
   "id": "a60547ca",
   "metadata": {},
   "source": [
    "The biggest chellange in online shopping is provide and maintain customer satisfaction. A key factor in success to maintain a customer is provide quality service to a consumer every time. a good system quality lead towards maintain its customer loyality.when customers are satisfied with the product and service they tend to purchase again from same supplier.\n",
    "\n",
    "Below are few points which are very important to maintain system quality:\n",
    "\n",
    "\n",
    "Ease of navigation in website\n",
    "Why did you abandon the “Bag”, “Shopping Cart”\n",
    "Empathy (readiness to assist with queries) towards the customers'\n"
   ]
  },
  {
   "cell_type": "code",
   "execution_count": 41,
   "id": "a603ca72",
   "metadata": {},
   "outputs": [
    {
     "data": {
      "image/png": "[encoded data removed]",
      "text/plain": [
       "<Figure size 432x288 with 1 Axes>"
      ]
     },
     "metadata": {},
     "output_type": "display_data"
    }
   ],
   "source": [
    "easy_navigate=data['22 Ease of navigation in website']\n",
    "plt.pie(easy_navigate.value_counts(),labels=easy_naviagate.unique(),autopct='%1.1f%%')\n",
    "plt.show()"
   ]
  },
  {
   "cell_type": "markdown",
   "id": "94d52f30",
   "metadata": {},
   "source": [
    "Analysis:Easy navigation gives customers a mentally satisfaction, now a days people like easy & quick navigation.\n",
    "    in our dataset 91.4% are agreed/strongly agreed on this points. so online store should focus on it."
   ]
  },
  {
   "cell_type": "code",
   "execution_count": 52,
   "id": "ff045448",
   "metadata": {},
   "outputs": [
    {
     "data": {
      "image/png": "[encoded data removed]",
      "text/plain": [
       "<Figure size 432x288 with 1 Axes>"
      ]
     },
     "metadata": {},
     "output_type": "display_data"
    }
   ],
   "source": [
    "abandon=data['17 Why did you abandon the “Bag”, “Shopping Cart”?']\n",
    "plt.pie(abandon.value_counts(),labels=abandon.unique(),autopct='%1.1f%%')\n",
    "plt.show()"
   ]
  },
  {
   "cell_type": "markdown",
   "id": "300daf2e",
   "metadata": {},
   "source": [
    "Analysis: as we can see 50% people abandon their bag dur 'lack of trust', so we should focus to improve customer trust by improving product quality and by provding best services."
   ]
  },
  {
   "cell_type": "code",
   "execution_count": 53,
   "id": "adb1c7cf",
   "metadata": {},
   "outputs": [
    {
     "data": {
      "image/png": "[encoded data removed]",
      "text/plain": [
       "<Figure size 432x288 with 1 Axes>"
      ]
     },
     "metadata": {},
     "output_type": "display_data"
    }
   ],
   "source": [
    "empathy=data['27 Empathy (readiness to assist with queries) towards the customers']\n",
    "plt.pie(empathy.value_counts(),labels=empathy.unique(),autopct='%1.1f%%')\n",
    "plt.show()"
   ]
  },
  {
   "cell_type": "markdown",
   "id": "f2a27c24",
   "metadata": {},
   "source": [
    "Analysis: One of the most important aspect which put good amount of impact on success/failure.  72.1% people are strongly agree with this point Empathy (readiness to assist with queries) towards the customers."
   ]
  },
  {
   "cell_type": "markdown",
   "id": "cfa98661",
   "metadata": {},
   "source": [
    "### information quality"
   ]
  },
  {
   "cell_type": "raw",
   "id": "d74a78d9",
   "metadata": {},
   "source": [
    "Information quality provides an important role for interaction between websites and consumers.\n",
    "In an online shopping site one can't check product quality by physical touch so its a most important part\n",
    "to provide best inforamtion about products. below i found few points which are most impactful.\n",
    "\n",
    "\n",
    "User derive satisfaction while shopping on a good quality website or application\n",
    "The content on the website must be easy to read and understand\n",
    "All relevant information on listed products must be stated clearly\n"
   ]
  },
  {
   "cell_type": "code",
   "execution_count": 57,
   "id": "4fcb6678",
   "metadata": {},
   "outputs": [
    {
     "data": {
      "image/png": "[encoded data removed]",
      "text/plain": [
       "<Figure size 432x288 with 1 Axes>"
      ]
     },
     "metadata": {},
     "output_type": "display_data"
    }
   ],
   "source": [
    "quality=data['36 User derive satisfaction while shopping on a good quality website or application']\n",
    "plt.pie(quality.value_counts(),labels=quality.unique(),autopct='%1.1f%%')\n",
    "plt.show()"
   ]
  },
  {
   "cell_type": "markdown",
   "id": "4162c36e",
   "metadata": {},
   "source": [
    "Analysis: A website where a user found all information about any particular products it makes diffrent level of satisfaction in user mind. everyone want to surf a good quality website or application for shopping online.\n",
    "    in our dataset 97.1% percent users are agreed/strongly agreed with this points. "
   ]
  },
  {
   "cell_type": "code",
   "execution_count": 58,
   "id": "b1e99dad",
   "metadata": {},
   "outputs": [
    {
     "data": {
      "image/png": "[encoded data removed]",
      "text/plain": [
       "<Figure size 432x288 with 1 Axes>"
      ]
     },
     "metadata": {},
     "output_type": "display_data"
    }
   ],
   "source": [
    "content=data['18 The content on the website must be easy to read and understand']\n",
    "plt.pie(content.value_counts(),labels=content.unique(),autopct='%1.1f%%')\n",
    "plt.show()"
   ]
  },
  {
   "cell_type": "markdown",
   "id": "f10cb87d",
   "metadata": {},
   "source": [
    "Analysis: This point also in same line as previous one. a website must not write complecx contents, it should be east to read & understand. our % audience agreed/strongly agreed with this point."
   ]
  },
  {
   "cell_type": "code",
   "execution_count": 61,
   "id": "075e425f",
   "metadata": {},
   "outputs": [
    {
     "data": {
      "image/png": "[encoded data removed]",
      "text/plain": [
       "<Figure size 432x288 with 1 Axes>"
      ]
     },
     "metadata": {},
     "output_type": "display_data"
    }
   ],
   "source": [
    "info=data['21 All relevant information on listed products must be stated clearly']\n",
    "plt.pie(info.value_counts(),labels=info.unique(),autopct='%1.1f%%')\n",
    "plt.show()"
   ]
  },
  {
   "cell_type": "markdown",
   "id": "9cb4ce92",
   "metadata": {},
   "source": [
    "analysis:In earlier points also stated that almost same thing all content should be clearly mentioned related to product.\n",
    "    \n",
    "    around 90% users are agreed/strongly agreed that relevant information on listed products must be stated clearly."
   ]
  },
  {
   "cell_type": "markdown",
   "id": "407bdd44",
   "metadata": {},
   "source": [
    "### trust"
   ]
  },
  {
   "cell_type": "raw",
   "id": "d560ceb3",
   "metadata": {},
   "source": [
    "Trust is most important key in any kind of business similarly in online shopping if site is trustworthy to customers then \n",
    "customers themself would advertise about site and products.\n",
    "online shopping site should keep their focus to be trustworthy. we filter out few points which are very important as per our dataset to build trust between customers and site.\n",
    "\n",
    "Being able to guarantee the privacy of the customer\n",
    "User satisfaction cannot exist without trust'\n",
    "Displaying quality Information on the website improves satisfaction of customers"
   ]
  },
  {
   "cell_type": "code",
   "execution_count": 64,
   "id": "b3ed831c",
   "metadata": {},
   "outputs": [
    {
     "data": {
      "image/png": "[encoded data removed]",
      "text/plain": [
       "<Figure size 432x288 with 1 Axes>"
      ]
     },
     "metadata": {},
     "output_type": "display_data"
    }
   ],
   "source": [
    "privacy=data['28 Being able to guarantee the privacy of the customer']\n",
    "plt.pie(privacy.value_counts(),labels=privacy.unique(),autopct='%1.1f%%')\n",
    "plt.show()"
   ]
  },
  {
   "cell_type": "markdown",
   "id": "042e3b1d",
   "metadata": {},
   "source": [
    "Analysis:Privacy is most important aspect in online shopping, everyone want to be sure that if any data given on online site is secure.\n",
    "    if any site able to guarantee the privacy of the customer then its lead to trust.\n",
    "    Around 91% customers agreed/strongly agree on this point."
   ]
  },
  {
   "cell_type": "code",
   "execution_count": 65,
   "id": "af50a8da",
   "metadata": {},
   "outputs": [
    {
     "data": {
      "image/png": "[encoded data removed]",
      "text/plain": [
       "<Figure size 432x288 with 1 Axes>"
      ]
     },
     "metadata": {},
     "output_type": "display_data"
    }
   ],
   "source": [
    "satisfaction=data['38 User satisfaction cannot exist without trust']\n",
    "plt.pie(satisfaction.value_counts(),labels=satisfaction.unique(),autopct='%1.1f%%')\n",
    "plt.show()"
   ]
  },
  {
   "cell_type": "markdown",
   "id": "ad674c44",
   "metadata": {},
   "source": [
    "Analysis:User satisfaction cannot exit without trust, 88% audience in out dataset agreed/strongly agreed on this point."
   ]
  },
  {
   "cell_type": "code",
   "execution_count": 68,
   "id": "69cb36e6",
   "metadata": {},
   "outputs": [
    {
     "data": {
      "image/png": "[encoded data removed]",
      "text/plain": [
       "<Figure size 432x288 with 1 Axes>"
      ]
     },
     "metadata": {},
     "output_type": "display_data"
    }
   ],
   "source": [
    "quality_info=data['35 Displaying quality Information on the website improves satisfaction of customers']\n",
    "plt.pie(quality_info.value_counts(),labels=quality_info.unique(),autopct='%1.1f%%')\n",
    "plt.show()"
   ]
  },
  {
   "cell_type": "markdown",
   "id": "a083227d",
   "metadata": {},
   "source": [
    "Analysis: Displaying quality information on the website can improve satisfcation on customers. around 51% customers are agreed on it and 50% are indifferent."
   ]
  },
  {
   "cell_type": "markdown",
   "id": "4fd18e03",
   "metadata": {},
   "source": [
    "### net benefit"
   ]
  },
  {
   "cell_type": "raw",
   "id": "00493fd8",
   "metadata": {},
   "source": [
    "Last but most important key feature of shopping Online shopping made shopping easy as there are no lines to wait so that we can do shopping in minutes. We have the 24x7 opportunity to shop online. Online shopping saves time and effort. In online shopping, we can get net benefit as well apart from other benefits.\n",
    "\n",
    "here we filtered out few net benefits in which most of the audience do agree:\n",
    "\n",
    "Net Benefit derived from shopping online can lead to users satisfaction\n",
    "Getting value for money spent\n",
    "Gaining access to loyalty programs is a benefit of shopping online"
   ]
  },
  {
   "cell_type": "code",
   "execution_count": 73,
   "id": "1f95024d",
   "metadata": {},
   "outputs": [
    {
     "data": {
      "image/png": "[encoded data removed]",
      "text/plain": [
       "<Figure size 432x288 with 1 Axes>"
      ]
     },
     "metadata": {},
     "output_type": "display_data"
    }
   ],
   "source": [
    "monetary=data['37 Net Benefit derived from shopping online can lead to users satisfaction']\n",
    "plt.pie(monetary.value_counts(),labels=monetary.unique(),autopct='%1.1f%%')\n",
    "plt.show()"
   ]
  },
  {
   "cell_type": "markdown",
   "id": "81172357",
   "metadata": {},
   "source": [
    "Analysis:Net benefit derived from shopping online can lead to user satisfaction,  81% audience do agree/strongly agree on this point."
   ]
  },
  {
   "cell_type": "code",
   "execution_count": 74,
   "id": "fc261403",
   "metadata": {},
   "outputs": [
    {
     "data": {
      "image/png": "[encoded data removed]",
      "text/plain": [
       "<Figure size 432x288 with 1 Axes>"
      ]
     },
     "metadata": {},
     "output_type": "display_data"
    }
   ],
   "source": [
    "value=data['47 Getting value for money spent']\n",
    "plt.pie(value.value_counts(),labels=value.unique(),autopct='%1.1f%%')\n",
    "plt.show()"
   ]
  },
  {
   "cell_type": "markdown",
   "id": "2d991382",
   "metadata": {},
   "source": [
    "Analysis:most of the audience do agree on it that they are getting value for money spent in online shopping. 86% customers agreed/strongly on it."
   ]
  },
  {
   "cell_type": "code",
   "execution_count": 77,
   "id": "76219fbe",
   "metadata": {},
   "outputs": [
    {
     "data": {
      "image/png": "[encoded data removed]",
      "text/plain": [
       "<Figure size 432x288 with 1 Axes>"
      ]
     },
     "metadata": {},
     "output_type": "display_data"
    }
   ],
   "source": [
    "loyality=data['34 Gaining access to loyalty programs is a benefit of shopping online']\n",
    "plt.pie(loyality.value_counts(),labels=loyality.unique(),autopct='%1.1f%%')\n",
    "plt.show()"
   ]
  },
  {
   "cell_type": "markdown",
   "id": "60738aef",
   "metadata": {},
   "source": [
    "Analysis:Around 67% cutomets do agree on it that loyality program is a benefit of shopping online."
   ]
  },
  {
   "cell_type": "markdown",
   "id": "e3f552c2",
   "metadata": {},
   "source": [
    "### Here we have analyse all 5 factors."
   ]
  }
 ],
 "metadata": {
  "kernelspec": {
   "display_name": "Python 3",
   "language": "python",
   "name": "python3"
  },
  "language_info": {
   "codemirror_mode": {
    "name": "ipython",
    "version": 3
   },
   "file_extension": ".py",
   "mimetype": "text/x-python",
   "name": "python",
   "nbconvert_exporter": "python",
   "pygments_lexer": "ipython3",
   "version": "3.8.8"
  }
 },
 "nbformat": 4,
 "nbformat_minor": 5
}
